{
 "cells": [
  {
   "cell_type": "markdown",
   "metadata": {
    "id": "1qrPQxsrdLVr"
   },
   "source": [
    "# Prediksi Risiko Pasien Pasca-Operasi Bedah Toraks\n",
    "\n",
    "**Tujuan Proyek:** Proyek ini bertujuan untuk membangun dan mengevaluasi model machine learning yang dapat memprediksi risiko kelangsungan hidup pasien dalam satu tahun setelah menjalani operasi kanker paru-paru. Proyek ini mencakup seluruh alur kerja ilmu data, mulai dari pemahaman data, pra-pemrosesan, pemodelan, evaluasi, hingga deployment.\n",
    "\n",
    "**Dataset:** Thoracic Surgery Data dari UCI Machine Learning Repository.\n",
    "\n",
    "link: https://archive.ics.uci.edu/dataset/277/thoracic+surgery+data"
   ]
  },
  {
   "cell_type": "markdown",
   "metadata": {
    "id": "_wMrCZNodLV5"
   },
   "source": [
    "# 📝 Tahap 1: Data Understanding\n",
    "\n",
    "Tahap ini bertujuan untuk memahami secara mendalam dataset yang akan digunakan. Proses ini mencakup pemahaman konteks, pemuatan data, pemeriksaan kualitas, dan analisis statistik deskriptif awal untuk mendapatkan wawasan pertama."
   ]
  },
  {
   "cell_type": "code",
   "execution_count": 1,
   "metadata": {
    "colab": {
     "base_uri": "https://localhost:8080/"
    },
    "id": "pcNFd9uYdYZ_",
    "outputId": "c018f29b-4ebe-456a-bfb8-e2795e8b4ca6"
   },
   "outputs": [
    {
     "name": "stdout",
     "output_type": "stream",
     "text": [
      "Requirement already satisfied: ucimlrepo in /usr/local/python/3.12.1/lib/python3.12/site-packages (0.0.7)\r\n",
      "Requirement already satisfied: pandas>=1.0.0 in /home/codespace/.local/lib/python3.12/site-packages (from ucimlrepo) (2.2.3)\r\n",
      "Requirement already satisfied: certifi>=2020.12.5 in /home/codespace/.local/lib/python3.12/site-packages (from ucimlrepo) (2024.8.30)\r\n"
     ]
    },
    {
     "name": "stdout",
     "output_type": "stream",
     "text": [
      "Requirement already satisfied: numpy>=1.26.0 in /home/codespace/.local/lib/python3.12/site-packages (from pandas>=1.0.0->ucimlrepo) (2.2.0)\r\n",
      "Requirement already satisfied: python-dateutil>=2.8.2 in /home/codespace/.local/lib/python3.12/site-packages (from pandas>=1.0.0->ucimlrepo) (2.9.0.post0)\r\n",
      "Requirement already satisfied: pytz>=2020.1 in /home/codespace/.local/lib/python3.12/site-packages (from pandas>=1.0.0->ucimlrepo) (2024.2)\r\n",
      "Requirement already satisfied: tzdata>=2022.7 in /home/codespace/.local/lib/python3.12/site-packages (from pandas>=1.0.0->ucimlrepo) (2024.2)\r\n",
      "Requirement already satisfied: six>=1.5 in /home/codespace/.local/lib/python3.12/site-packages (from python-dateutil>=2.8.2->pandas>=1.0.0->ucimlrepo) (1.17.0)\r\n"
     ]
    },
    {
     "name": "stdout",
     "output_type": "stream",
     "text": [
      "\r\n",
      "\u001b[1m[\u001b[0m\u001b[34;49mnotice\u001b[0m\u001b[1;39;49m]\u001b[0m\u001b[39;49m A new release of pip is available: \u001b[0m\u001b[31;49m24.3.1\u001b[0m\u001b[39;49m -> \u001b[0m\u001b[32;49m25.1.1\u001b[0m\r\n",
      "\u001b[1m[\u001b[0m\u001b[34;49mnotice\u001b[0m\u001b[1;39;49m]\u001b[0m\u001b[39;49m To update, run: \u001b[0m\u001b[32;49mpython3 -m pip install --upgrade pip\u001b[0m\r\n"
     ]
    },
    {
     "name": "stdout",
     "output_type": "stream",
     "text": [
      "Note: you may need to restart the kernel to use updated packages.\n"
     ]
    }
   ],
   "source": [
    "pip install ucimlrepo"
   ]
  },
  {
   "cell_type": "code",
   "execution_count": 2,
   "metadata": {
    "colab": {
     "base_uri": "https://localhost:8080/"
    },
    "id": "qp-4Lo5WdLV7",
    "outputId": "6828a737-41ce-4681-f07c-f03851101fe0"
   },
   "outputs": [
    {
     "name": "stdout",
     "output_type": "stream",
     "text": [
      "Pustaka dasar berhasil diimpor!\n"
     ]
    }
   ],
   "source": [
    "# --- Pustaka untuk Analisis dan Manipulasi Data ---\n",
    "\n",
    "\n",
    "import pandas as pd\n",
    "import numpy as np\n",
    "\n",
    "# --- Pustaka untuk Interaksi dengan UCI Repository ---\n",
    "# Jika belum terpasang, jalankan: !pip install ucimlrepo\n",
    "from ucimlrepo import fetch_ucirepo\n",
    "\n",
    "# --- Pustaka untuk Visualisasi Data ---\n",
    "import matplotlib.pyplot as plt\n",
    "import seaborn as sns\n",
    "\n",
    "# --- Pengaturan Tampilan ---\n",
    "sns.set_style('whitegrid')\n",
    "plt.rcParams['figure.figsize'] = (12, 6)\n",
    "\n",
    "print(\"Pustaka dasar berhasil diimpor!\")"
   ]
  },
  {
   "cell_type": "markdown",
   "metadata": {
    "id": "KYRKAgAPdLV9"
   },
   "source": [
    "## 1.1 Memuat Data"
   ]
  },
  {
   "cell_type": "code",
   "execution_count": 3,
   "metadata": {
    "colab": {
     "base_uri": "https://localhost:8080/",
     "height": 241
    },
    "id": "KOHELsVZdLV-",
    "outputId": "6372d393-c2f8-468f-b6f6-8f510ab5630e"
   },
   "outputs": [
    {
     "name": "stdout",
     "output_type": "stream",
     "text": [
      "Data berhasil dimuat dan diproses.\n",
      "Bentuk (dimensi) DataFrame: (470, 17)\n"
     ]
    },
    {
     "data": {
      "text/html": [
       "<div>\n",
       "<style scoped>\n",
       "    .dataframe tbody tr th:only-of-type {\n",
       "        vertical-align: middle;\n",
       "    }\n",
       "\n",
       "    .dataframe tbody tr th {\n",
       "        vertical-align: top;\n",
       "    }\n",
       "\n",
       "    .dataframe thead th {\n",
       "        text-align: right;\n",
       "    }\n",
       "</style>\n",
       "<table border=\"1\" class=\"dataframe\">\n",
       "  <thead>\n",
       "    <tr style=\"text-align: right;\">\n",
       "      <th></th>\n",
       "      <th>DGN</th>\n",
       "      <th>PRE4</th>\n",
       "      <th>PRE5</th>\n",
       "      <th>PRE6</th>\n",
       "      <th>PRE7</th>\n",
       "      <th>PRE8</th>\n",
       "      <th>PRE9</th>\n",
       "      <th>PRE10</th>\n",
       "      <th>PRE11</th>\n",
       "      <th>PRE14</th>\n",
       "      <th>PRE17</th>\n",
       "      <th>PRE19</th>\n",
       "      <th>PRE25</th>\n",
       "      <th>PRE30</th>\n",
       "      <th>PRE32</th>\n",
       "      <th>AGE</th>\n",
       "      <th>Risk1Yr</th>\n",
       "    </tr>\n",
       "  </thead>\n",
       "  <tbody>\n",
       "    <tr>\n",
       "      <th>0</th>\n",
       "      <td>DGN2</td>\n",
       "      <td>2.88</td>\n",
       "      <td>2.16</td>\n",
       "      <td>PRZ1</td>\n",
       "      <td>False</td>\n",
       "      <td>False</td>\n",
       "      <td>False</td>\n",
       "      <td>True</td>\n",
       "      <td>True</td>\n",
       "      <td>OC14</td>\n",
       "      <td>False</td>\n",
       "      <td>False</td>\n",
       "      <td>False</td>\n",
       "      <td>True</td>\n",
       "      <td>False</td>\n",
       "      <td>60</td>\n",
       "      <td>False</td>\n",
       "    </tr>\n",
       "    <tr>\n",
       "      <th>1</th>\n",
       "      <td>DGN3</td>\n",
       "      <td>3.40</td>\n",
       "      <td>1.88</td>\n",
       "      <td>PRZ0</td>\n",
       "      <td>False</td>\n",
       "      <td>False</td>\n",
       "      <td>False</td>\n",
       "      <td>False</td>\n",
       "      <td>False</td>\n",
       "      <td>OC12</td>\n",
       "      <td>False</td>\n",
       "      <td>False</td>\n",
       "      <td>False</td>\n",
       "      <td>True</td>\n",
       "      <td>False</td>\n",
       "      <td>51</td>\n",
       "      <td>False</td>\n",
       "    </tr>\n",
       "    <tr>\n",
       "      <th>2</th>\n",
       "      <td>DGN3</td>\n",
       "      <td>2.76</td>\n",
       "      <td>2.08</td>\n",
       "      <td>PRZ1</td>\n",
       "      <td>False</td>\n",
       "      <td>False</td>\n",
       "      <td>False</td>\n",
       "      <td>True</td>\n",
       "      <td>False</td>\n",
       "      <td>OC11</td>\n",
       "      <td>False</td>\n",
       "      <td>False</td>\n",
       "      <td>False</td>\n",
       "      <td>True</td>\n",
       "      <td>False</td>\n",
       "      <td>59</td>\n",
       "      <td>False</td>\n",
       "    </tr>\n",
       "    <tr>\n",
       "      <th>3</th>\n",
       "      <td>DGN3</td>\n",
       "      <td>3.68</td>\n",
       "      <td>3.04</td>\n",
       "      <td>PRZ0</td>\n",
       "      <td>False</td>\n",
       "      <td>False</td>\n",
       "      <td>False</td>\n",
       "      <td>False</td>\n",
       "      <td>False</td>\n",
       "      <td>OC11</td>\n",
       "      <td>False</td>\n",
       "      <td>False</td>\n",
       "      <td>False</td>\n",
       "      <td>False</td>\n",
       "      <td>False</td>\n",
       "      <td>54</td>\n",
       "      <td>False</td>\n",
       "    </tr>\n",
       "    <tr>\n",
       "      <th>4</th>\n",
       "      <td>DGN3</td>\n",
       "      <td>2.44</td>\n",
       "      <td>0.96</td>\n",
       "      <td>PRZ2</td>\n",
       "      <td>False</td>\n",
       "      <td>True</td>\n",
       "      <td>False</td>\n",
       "      <td>True</td>\n",
       "      <td>True</td>\n",
       "      <td>OC11</td>\n",
       "      <td>False</td>\n",
       "      <td>False</td>\n",
       "      <td>False</td>\n",
       "      <td>True</td>\n",
       "      <td>False</td>\n",
       "      <td>73</td>\n",
       "      <td>True</td>\n",
       "    </tr>\n",
       "  </tbody>\n",
       "</table>\n",
       "</div>"
      ],
      "text/plain": [
       "    DGN  PRE4  PRE5  PRE6   PRE7   PRE8   PRE9  PRE10  PRE11 PRE14  PRE17  \\\n",
       "0  DGN2  2.88  2.16  PRZ1  False  False  False   True   True  OC14  False   \n",
       "1  DGN3  3.40  1.88  PRZ0  False  False  False  False  False  OC12  False   \n",
       "2  DGN3  2.76  2.08  PRZ1  False  False  False   True  False  OC11  False   \n",
       "3  DGN3  3.68  3.04  PRZ0  False  False  False  False  False  OC11  False   \n",
       "4  DGN3  2.44  0.96  PRZ2  False   True  False   True   True  OC11  False   \n",
       "\n",
       "   PRE19  PRE25  PRE30  PRE32  AGE  Risk1Yr  \n",
       "0  False  False   True  False   60    False  \n",
       "1  False  False   True  False   51    False  \n",
       "2  False  False   True  False   59    False  \n",
       "3  False  False  False  False   54    False  \n",
       "4  False  False   True  False   73     True  "
      ]
     },
     "execution_count": 3,
     "metadata": {},
     "output_type": "execute_result"
    }
   ],
   "source": [
    "# Mengambil dataset dari UCI Repository menggunakan ID-nya (277)\n",
    "thoracic_surgery_data = fetch_ucirepo(id=277)\n",
    "\n",
    "# Ekstrak fitur (X) dan target (y) ke dalam DataFrame pandas\n",
    "X = thoracic_surgery_data.data.features\n",
    "y = thoracic_surgery_data.data.targets\n",
    "\n",
    "# Menggabungkan fitur dan target menjadi satu DataFrame untuk kemudahan eksplorasi\n",
    "df = pd.concat([X, y], axis=1)\n",
    "\n",
    "# Konversi kolom boolean dari 'T'/'F' menjadi Tipe Data Boolean (True/False)\n",
    "bool_cols = ['PRE7', 'PRE8', 'PRE9', 'PRE10', 'PRE11', 'PRE17', 'PRE19', 'PRE25', 'PRE30', 'PRE32', 'Risk1Yr']\n",
    "for col in bool_cols:\n",
    "    df[col] = df[col].map({'T': True, 'F': False})\n",
    "\n",
    "print(\"Data berhasil dimuat dan diproses.\")\n",
    "print(f\"Bentuk (dimensi) DataFrame: {df.shape}\")\n",
    "\n",
    "# Tampilkan 5 baris pertama untuk memastikan data termuat dengan benar\n",
    "df.head()"
   ]
  },
  {
   "cell_type": "markdown",
   "metadata": {
    "id": "LdJszVCgdLV_"
   },
   "source": [
    "## 1.2 Informasi Atribut (Data Dictionary)\n",
    "\n",
    "| Nama Atribut | Deskripsi | Tipe & Nilai |\n",
    "| :--- | :--- | :--- |\n",
    "| `DGN` | Diagnosis - Kode Zygmund | Kategorikal (`DGN3`, `DGN2`, `DGN4`, ...)|\n",
    "| `PRE4` | Kapasitas vital paksa (FVC) | Numerik (Liter) |\n",
    "| `PRE5` | Volume ekspirasi paksa dalam 1 detik (FEV1) | Numerik (Liter) |\n",
    "| `PRE6` | Performa Status - Skala Zubrod | Kategorikal (`PRZ0`, `PRZ1`, `PRZ2`) |\n",
    "| `PRE7` | Nyeri sebelum operasi | Boolean (`True`, `False`) |\n",
    "| `PRE8` | Hemoptisis (batuk darah) | Boolean (`True`, `False`) |\n",
    "| `PRE9` | Dispnea (sesak napas) | Boolean (`True`, `False`) |\n",
    "| `PRE10` | Batuk sebelum operasi | Boolean (`True`, `False`) |\n",
    "| `PRE11` | Kelemahan sebelum operasi | Boolean (`True`, `False`) |\n",
    "| `PRE14` | Ukuran tumor dari CT - Skala T | Kategorikal (`T1`, `T2`, `T3`, `T4`) |\n",
    "| `PRE17` | Diabetes Mellitus | Boolean (`True`, `False`) |\n",
    "| `PRE19` | MI (Myocardial Infarction) hingga 6 bulan | Boolean (`True`, `False`) |\n",
    "| `PRE25` | PAD - Penyakit Arteri Perifer | Boolean (`True`, `False`) |\n",
    "| `PRE30` | Merokok | Boolean (`True`, `False`) |\n",
    "| `PRE32` | Asma | Boolean (`True`, `False`) |\n",
    "| `AGE` | Usia saat operasi | Numerik (Tahun) |\n",
    "| **`Risk1Yr`** | **Variabel Target:** Risiko kematian dalam 1 tahun | **Boolean (`True`=Meninggal, `False`=Hidup)**|"
   ]
  },
  {
   "cell_type": "markdown",
   "metadata": {
    "id": "L0xxfUp6dLWA"
   },
   "source": [
    "## 1.3 Inspeksi Awal Data"
   ]
  },
  {
   "cell_type": "code",
   "execution_count": 4,
   "metadata": {
    "colab": {
     "base_uri": "https://localhost:8080/",
     "height": 1000
    },
    "id": "2B8MkznHdLWB",
    "outputId": "29670427-5e59-4148-a93a-6ec40357b257"
   },
   "outputs": [
    {
     "name": "stdout",
     "output_type": "stream",
     "text": [
      "--- Ringkasan Umum DataFrame (df.info()) ---\n",
      "<class 'pandas.core.frame.DataFrame'>\n",
      "RangeIndex: 470 entries, 0 to 469\n",
      "Data columns (total 17 columns):\n",
      " #   Column   Non-Null Count  Dtype  \n",
      "---  ------   --------------  -----  \n",
      " 0   DGN      470 non-null    object \n",
      " 1   PRE4     470 non-null    float64\n",
      " 2   PRE5     470 non-null    float64\n",
      " 3   PRE6     470 non-null    object \n",
      " 4   PRE7     470 non-null    bool   \n",
      " 5   PRE8     470 non-null    bool   \n",
      " 6   PRE9     470 non-null    bool   \n",
      " 7   PRE10    470 non-null    bool   \n",
      " 8   PRE11    470 non-null    bool   \n",
      " 9   PRE14    470 non-null    object \n",
      " 10  PRE17    470 non-null    bool   \n",
      " 11  PRE19    470 non-null    bool   \n",
      " 12  PRE25    470 non-null    bool   \n",
      " 13  PRE30    470 non-null    bool   \n",
      " 14  PRE32    470 non-null    bool   \n",
      " 15  AGE      470 non-null    int64  \n",
      " 16  Risk1Yr  470 non-null    bool   \n",
      "dtypes: bool(11), float64(2), int64(1), object(3)\n",
      "memory usage: 27.2+ KB\n",
      "\n",
      "==================================================\n",
      "\n",
      "--- Statistik Deskriptif untuk Fitur Numerik ---\n"
     ]
    },
    {
     "data": {
      "text/html": [
       "<style type=\"text/css\">\n",
       "</style>\n",
       "<table id=\"T_054e6\">\n",
       "  <thead>\n",
       "    <tr>\n",
       "      <th class=\"blank level0\" >&nbsp;</th>\n",
       "      <th id=\"T_054e6_level0_col0\" class=\"col_heading level0 col0\" >PRE4</th>\n",
       "      <th id=\"T_054e6_level0_col1\" class=\"col_heading level0 col1\" >PRE5</th>\n",
       "      <th id=\"T_054e6_level0_col2\" class=\"col_heading level0 col2\" >AGE</th>\n",
       "    </tr>\n",
       "  </thead>\n",
       "  <tbody>\n",
       "    <tr>\n",
       "      <th id=\"T_054e6_level0_row0\" class=\"row_heading level0 row0\" >count</th>\n",
       "      <td id=\"T_054e6_row0_col0\" class=\"data row0 col0\" >470.00</td>\n",
       "      <td id=\"T_054e6_row0_col1\" class=\"data row0 col1\" >470.00</td>\n",
       "      <td id=\"T_054e6_row0_col2\" class=\"data row0 col2\" >470.00</td>\n",
       "    </tr>\n",
       "    <tr>\n",
       "      <th id=\"T_054e6_level0_row1\" class=\"row_heading level0 row1\" >mean</th>\n",
       "      <td id=\"T_054e6_row1_col0\" class=\"data row1 col0\" >3.28</td>\n",
       "      <td id=\"T_054e6_row1_col1\" class=\"data row1 col1\" >4.57</td>\n",
       "      <td id=\"T_054e6_row1_col2\" class=\"data row1 col2\" >62.53</td>\n",
       "    </tr>\n",
       "    <tr>\n",
       "      <th id=\"T_054e6_level0_row2\" class=\"row_heading level0 row2\" >std</th>\n",
       "      <td id=\"T_054e6_row2_col0\" class=\"data row2 col0\" >0.87</td>\n",
       "      <td id=\"T_054e6_row2_col1\" class=\"data row2 col1\" >11.77</td>\n",
       "      <td id=\"T_054e6_row2_col2\" class=\"data row2 col2\" >8.71</td>\n",
       "    </tr>\n",
       "    <tr>\n",
       "      <th id=\"T_054e6_level0_row3\" class=\"row_heading level0 row3\" >min</th>\n",
       "      <td id=\"T_054e6_row3_col0\" class=\"data row3 col0\" >1.44</td>\n",
       "      <td id=\"T_054e6_row3_col1\" class=\"data row3 col1\" >0.96</td>\n",
       "      <td id=\"T_054e6_row3_col2\" class=\"data row3 col2\" >21.00</td>\n",
       "    </tr>\n",
       "    <tr>\n",
       "      <th id=\"T_054e6_level0_row4\" class=\"row_heading level0 row4\" >25%</th>\n",
       "      <td id=\"T_054e6_row4_col0\" class=\"data row4 col0\" >2.60</td>\n",
       "      <td id=\"T_054e6_row4_col1\" class=\"data row4 col1\" >1.96</td>\n",
       "      <td id=\"T_054e6_row4_col2\" class=\"data row4 col2\" >57.00</td>\n",
       "    </tr>\n",
       "    <tr>\n",
       "      <th id=\"T_054e6_level0_row5\" class=\"row_heading level0 row5\" >50%</th>\n",
       "      <td id=\"T_054e6_row5_col0\" class=\"data row5 col0\" >3.16</td>\n",
       "      <td id=\"T_054e6_row5_col1\" class=\"data row5 col1\" >2.40</td>\n",
       "      <td id=\"T_054e6_row5_col2\" class=\"data row5 col2\" >62.00</td>\n",
       "    </tr>\n",
       "    <tr>\n",
       "      <th id=\"T_054e6_level0_row6\" class=\"row_heading level0 row6\" >75%</th>\n",
       "      <td id=\"T_054e6_row6_col0\" class=\"data row6 col0\" >3.81</td>\n",
       "      <td id=\"T_054e6_row6_col1\" class=\"data row6 col1\" >3.08</td>\n",
       "      <td id=\"T_054e6_row6_col2\" class=\"data row6 col2\" >69.00</td>\n",
       "    </tr>\n",
       "    <tr>\n",
       "      <th id=\"T_054e6_level0_row7\" class=\"row_heading level0 row7\" >max</th>\n",
       "      <td id=\"T_054e6_row7_col0\" class=\"data row7 col0\" >6.30</td>\n",
       "      <td id=\"T_054e6_row7_col1\" class=\"data row7 col1\" >86.30</td>\n",
       "      <td id=\"T_054e6_row7_col2\" class=\"data row7 col2\" >87.00</td>\n",
       "    </tr>\n",
       "  </tbody>\n",
       "</table>\n"
      ],
      "text/plain": [
       "<pandas.io.formats.style.Styler at 0x7f15d1eaa4b0>"
      ]
     },
     "metadata": {},
     "output_type": "display_data"
    },
    {
     "name": "stdout",
     "output_type": "stream",
     "text": [
      "\n",
      "==================================================\n",
      "\n",
      "--- Statistik Deskriptif untuk Fitur Kategorikal & Boolean ---\n"
     ]
    },
    {
     "data": {
      "text/html": [
       "<div>\n",
       "<style scoped>\n",
       "    .dataframe tbody tr th:only-of-type {\n",
       "        vertical-align: middle;\n",
       "    }\n",
       "\n",
       "    .dataframe tbody tr th {\n",
       "        vertical-align: top;\n",
       "    }\n",
       "\n",
       "    .dataframe thead th {\n",
       "        text-align: right;\n",
       "    }\n",
       "</style>\n",
       "<table border=\"1\" class=\"dataframe\">\n",
       "  <thead>\n",
       "    <tr style=\"text-align: right;\">\n",
       "      <th></th>\n",
       "      <th>DGN</th>\n",
       "      <th>PRE6</th>\n",
       "      <th>PRE7</th>\n",
       "      <th>PRE8</th>\n",
       "      <th>PRE9</th>\n",
       "      <th>PRE10</th>\n",
       "      <th>PRE11</th>\n",
       "      <th>PRE14</th>\n",
       "      <th>PRE17</th>\n",
       "      <th>PRE19</th>\n",
       "      <th>PRE25</th>\n",
       "      <th>PRE30</th>\n",
       "      <th>PRE32</th>\n",
       "      <th>Risk1Yr</th>\n",
       "    </tr>\n",
       "  </thead>\n",
       "  <tbody>\n",
       "    <tr>\n",
       "      <th>count</th>\n",
       "      <td>470</td>\n",
       "      <td>470</td>\n",
       "      <td>470</td>\n",
       "      <td>470</td>\n",
       "      <td>470</td>\n",
       "      <td>470</td>\n",
       "      <td>470</td>\n",
       "      <td>470</td>\n",
       "      <td>470</td>\n",
       "      <td>470</td>\n",
       "      <td>470</td>\n",
       "      <td>470</td>\n",
       "      <td>470</td>\n",
       "      <td>470</td>\n",
       "    </tr>\n",
       "    <tr>\n",
       "      <th>unique</th>\n",
       "      <td>7</td>\n",
       "      <td>3</td>\n",
       "      <td>2</td>\n",
       "      <td>2</td>\n",
       "      <td>2</td>\n",
       "      <td>2</td>\n",
       "      <td>2</td>\n",
       "      <td>4</td>\n",
       "      <td>2</td>\n",
       "      <td>2</td>\n",
       "      <td>2</td>\n",
       "      <td>2</td>\n",
       "      <td>2</td>\n",
       "      <td>2</td>\n",
       "    </tr>\n",
       "    <tr>\n",
       "      <th>top</th>\n",
       "      <td>DGN3</td>\n",
       "      <td>PRZ1</td>\n",
       "      <td>False</td>\n",
       "      <td>False</td>\n",
       "      <td>False</td>\n",
       "      <td>True</td>\n",
       "      <td>False</td>\n",
       "      <td>OC12</td>\n",
       "      <td>False</td>\n",
       "      <td>False</td>\n",
       "      <td>False</td>\n",
       "      <td>True</td>\n",
       "      <td>False</td>\n",
       "      <td>False</td>\n",
       "    </tr>\n",
       "    <tr>\n",
       "      <th>freq</th>\n",
       "      <td>349</td>\n",
       "      <td>313</td>\n",
       "      <td>439</td>\n",
       "      <td>402</td>\n",
       "      <td>439</td>\n",
       "      <td>323</td>\n",
       "      <td>392</td>\n",
       "      <td>257</td>\n",
       "      <td>435</td>\n",
       "      <td>468</td>\n",
       "      <td>462</td>\n",
       "      <td>386</td>\n",
       "      <td>468</td>\n",
       "      <td>400</td>\n",
       "    </tr>\n",
       "  </tbody>\n",
       "</table>\n",
       "</div>"
      ],
      "text/plain": [
       "         DGN  PRE6   PRE7   PRE8   PRE9 PRE10  PRE11 PRE14  PRE17  PRE19  \\\n",
       "count    470   470    470    470    470   470    470   470    470    470   \n",
       "unique     7     3      2      2      2     2      2     4      2      2   \n",
       "top     DGN3  PRZ1  False  False  False  True  False  OC12  False  False   \n",
       "freq     349   313    439    402    439   323    392   257    435    468   \n",
       "\n",
       "        PRE25 PRE30  PRE32 Risk1Yr  \n",
       "count     470   470    470     470  \n",
       "unique      2     2      2       2  \n",
       "top     False  True  False   False  \n",
       "freq      462   386    468     400  "
      ]
     },
     "metadata": {},
     "output_type": "display_data"
    }
   ],
   "source": [
    "print(\"--- Ringkasan Umum DataFrame (df.info()) ---\")\n",
    "df.info()\n",
    "\n",
    "print(\"\\n\" + \"=\"*50 + \"\\n\")\n",
    "\n",
    "print(\"--- Statistik Deskriptif untuk Fitur Numerik ---\")\n",
    "display(df.describe().style.format(\"{:.2f}\"))\n",
    "\n",
    "print(\"\\n\" + \"=\"*50 + \"\\n\")\n",
    "\n",
    "print(\"--- Statistik Deskriptif untuk Fitur Kategorikal & Boolean ---\")\n",
    "display(df.describe(include=['object', 'bool']))"
   ]
  },
  {
   "cell_type": "markdown",
   "metadata": {
    "id": "6gPju44odLWD"
   },
   "source": [
    "## 1.4 Pemeriksaan Kualitas Data (Missing Values & Duplicates)"
   ]
  },
  {
   "cell_type": "code",
   "execution_count": 5,
   "metadata": {
    "colab": {
     "base_uri": "https://localhost:8080/"
    },
    "id": "rSIBpXNpdLWE",
    "outputId": "42ed45a5-882a-4019-9cae-5b7c9b47e9fa"
   },
   "outputs": [
    {
     "name": "stdout",
     "output_type": "stream",
     "text": [
      "--- Jumlah Nilai Hilang per Kolom ---\n",
      "✅ Tidak ada nilai yang hilang dalam dataset.\n",
      "\n",
      "==================================================\n",
      "\n",
      "--- Jumlah Baris Data Duplikat ---\n",
      "✅ Tidak ada baris duplikat dalam dataset.\n"
     ]
    }
   ],
   "source": [
    "missing_values = df.isnull().sum()\n",
    "print(\"--- Jumlah Nilai Hilang per Kolom ---\")\n",
    "if missing_values.sum() == 0:\n",
    "    print(\"✅ Tidak ada nilai yang hilang dalam dataset.\")\n",
    "else:\n",
    "    print(missing_values[missing_values > 0])\n",
    "\n",
    "print(\"\\n\" + \"=\"*50 + \"\\n\")\n",
    "\n",
    "duplicated_rows = df.duplicated().sum()\n",
    "print(\"--- Jumlah Baris Data Duplikat ---\")\n",
    "if duplicated_rows == 0:\n",
    "    print(\"✅ Tidak ada baris duplikat dalam dataset.\")\n",
    "else:\n",
    "    print(f\"⚠️ Terdapat {duplicated_rows} baris duplikat.\")"
   ]
  },
  {
   "cell_type": "markdown",
   "metadata": {
    "id": "809H_a8PdLWF"
   },
   "source": [
    "## 1.5 Analisis Variabel Target (`Risk1Yr`)\n",
    "\n",
    "Menganalisis distribusi variabel target adalah langkah krusial untuk masalah klasifikasi."
   ]
  },
  {
   "cell_type": "code",
   "execution_count": 6,
   "metadata": {
    "colab": {
     "base_uri": "https://localhost:8080/",
     "height": 916
    },
    "id": "hr6yKmPxdLWG",
    "outputId": "86cf2604-c63a-4107-81a4-2e305253bb91"
   },
   "outputs": [
    {
     "name": "stdout",
     "output_type": "stream",
     "text": [
      "--- Distribusi Variabel Target (Risk1Yr) ---\n",
      "False = Pasien Hidup, True = Pasien Meninggal\n",
      "\n",
      "Jumlah:\n",
      "Risk1Yr\n",
      "False    400\n",
      "True      70\n",
      "Name: count, dtype: int64\n",
      "\n",
      "Persentase:\n",
      "Risk1Yr\n",
      "False    85.106383\n",
      "True     14.893617\n",
      "Name: proportion, dtype: float64\n"
     ]
    },
    {
     "name": "stderr",
     "output_type": "stream",
     "text": [
      "/tmp/ipykernel_17916/1733105134.py:12: FutureWarning: \n",
      "\n",
      "Passing `palette` without assigning `hue` is deprecated and will be removed in v0.14.0. Assign the `x` variable to `hue` and set `legend=False` for the same effect.\n",
      "\n",
      "  ax = sns.countplot(x='Risk1Yr', data=df, palette=['#4CAF50', '#F44336'])\n"
     ]
    },
    {
     "data": {
      "image/png": "[encoded data removed]",
      "text/plain": [
       "<Figure size 800x600 with 1 Axes>"
      ]
     },
     "metadata": {},
     "output_type": "display_data"
    }
   ],
   "source": [
    "target_counts = df['Risk1Yr'].value_counts()\n",
    "target_percentage = df['Risk1Yr'].value_counts(normalize=True) * 100\n",
    "\n",
    "print(\"--- Distribusi Variabel Target (Risk1Yr) ---\")\n",
    "print(\"False = Pasien Hidup, True = Pasien Meninggal\")\n",
    "print(\"\\nJumlah:\")\n",
    "print(target_counts)\n",
    "print(\"\\nPersentase:\")\n",
    "print(target_percentage)\n",
    "\n",
    "plt.figure(figsize=(8, 6))\n",
    "ax = sns.countplot(x='Risk1Yr', data=df, palette=['#4CAF50', '#F44336'])\n",
    "plt.title('Distribusi Variabel Target: Risk1Yr', fontsize=16)\n",
    "plt.xlabel('Pasien Meninggal dalam 1 Tahun?')\n",
    "plt.ylabel('Jumlah Pasien')\n",
    "plt.xticks([0, 1], ['Tidak (Hidup)', 'Ya (Meninggal)'])\n",
    "\n",
    "for p in ax.patches:\n",
    "    ax.annotate(f'{p.get_height()}\\n({p.get_height()/len(df)*100:.1f}%)',\n",
    "                (p.get_x() + p.get_width() / 2., p.get_height()),\n",
    "                ha='center', va='center', fontsize=12, color='black', xytext=(0, 10),\n",
    "                textcoords='offset points')\n",
    "\n",
    "plt.show()"
   ]
  },
  {
   "cell_type": "markdown",
   "metadata": {
    "id": "1BA01AGydLWG"
   },
   "source": [
    "**Temuan Kunci:** Dataset ini **sangat tidak seimbang (highly imbalanced)**. Mayoritas (85.1%) pasien bertahan hidup. Ini harus ditangani pada tahap pra-pemrosesan untuk menghindari model yang bias."
   ]
  },
  {
   "cell_type": "markdown",
   "metadata": {
    "id": "muNh_uY_dLWH"
   },
   "source": [
    "# ⚙️ Tahap 2: Pra-Pemrosesan Data (Data Preprocessing)\n",
    "\n",
    "Tahap ini bertujuan untuk mempersiapkan data agar siap digunakan untuk pemodelan. Kita akan melakukan encoding, pemisahan data, penskalaan, dan penanganan data tidak seimbang."
   ]
  },
  {
   "cell_type": "code",
   "execution_count": 7,
   "metadata": {
    "colab": {
     "base_uri": "https://localhost:8080/"
    },
    "id": "R9IcQ6TvdLWH",
    "outputId": "7a1ff712-2b8f-4e16-c025-8b629250afbc"
   },
   "outputs": [
    {
     "name": "stdout",
     "output_type": "stream",
     "text": [
      "Pustaka untuk pra-pemrosesan berhasil diimpor!\n"
     ]
    }
   ],
   "source": [
    "# Pustaka untuk pra-pemrosesan\n",
    "from sklearn.model_selection import train_test_split\n",
    "from sklearn.preprocessing import StandardScaler\n",
    "# Jika belum terpasang, jalankan: !pip install imbalanced-learn\n",
    "from imblearn.over_sampling import SMOTE\n",
    "import joblib\n",
    "\n",
    "print(\"Pustaka untuk pra-pemrosesan berhasil diimpor!\")"
   ]
  },
  {
   "cell_type": "markdown",
   "metadata": {
    "id": "aYxSrWdQdLWH"
   },
   "source": [
    "## 2.1 Pemisahan Fitur (X) dan Target (y) dan Encoding"
   ]
  },
  {
   "cell_type": "code",
   "execution_count": 8,
   "metadata": {
    "colab": {
     "base_uri": "https://localhost:8080/",
     "height": 273
    },
    "id": "KFHNZVjddLWI",
    "outputId": "5a4767c0-0f3b-4805-b439-b77458b92875"
   },
   "outputs": [
    {
     "name": "stdout",
     "output_type": "stream",
     "text": [
      "Fitur berhasil di-encode. Bentuk baru X: (470, 24)\n"
     ]
    },
    {
     "data": {
      "text/html": [
       "<div>\n",
       "<style scoped>\n",
       "    .dataframe tbody tr th:only-of-type {\n",
       "        vertical-align: middle;\n",
       "    }\n",
       "\n",
       "    .dataframe tbody tr th {\n",
       "        vertical-align: top;\n",
       "    }\n",
       "\n",
       "    .dataframe thead th {\n",
       "        text-align: right;\n",
       "    }\n",
       "</style>\n",
       "<table border=\"1\" class=\"dataframe\">\n",
       "  <thead>\n",
       "    <tr style=\"text-align: right;\">\n",
       "      <th></th>\n",
       "      <th>PRE4</th>\n",
       "      <th>PRE5</th>\n",
       "      <th>PRE7</th>\n",
       "      <th>PRE8</th>\n",
       "      <th>PRE9</th>\n",
       "      <th>PRE10</th>\n",
       "      <th>PRE11</th>\n",
       "      <th>PRE17</th>\n",
       "      <th>PRE19</th>\n",
       "      <th>PRE25</th>\n",
       "      <th>...</th>\n",
       "      <th>DGN_DGN3</th>\n",
       "      <th>DGN_DGN4</th>\n",
       "      <th>DGN_DGN5</th>\n",
       "      <th>DGN_DGN6</th>\n",
       "      <th>DGN_DGN8</th>\n",
       "      <th>PRE6_PRZ1</th>\n",
       "      <th>PRE6_PRZ2</th>\n",
       "      <th>PRE14_OC12</th>\n",
       "      <th>PRE14_OC13</th>\n",
       "      <th>PRE14_OC14</th>\n",
       "    </tr>\n",
       "  </thead>\n",
       "  <tbody>\n",
       "    <tr>\n",
       "      <th>0</th>\n",
       "      <td>2.88</td>\n",
       "      <td>2.16</td>\n",
       "      <td>False</td>\n",
       "      <td>False</td>\n",
       "      <td>False</td>\n",
       "      <td>True</td>\n",
       "      <td>True</td>\n",
       "      <td>False</td>\n",
       "      <td>False</td>\n",
       "      <td>False</td>\n",
       "      <td>...</td>\n",
       "      <td>False</td>\n",
       "      <td>False</td>\n",
       "      <td>False</td>\n",
       "      <td>False</td>\n",
       "      <td>False</td>\n",
       "      <td>True</td>\n",
       "      <td>False</td>\n",
       "      <td>False</td>\n",
       "      <td>False</td>\n",
       "      <td>True</td>\n",
       "    </tr>\n",
       "    <tr>\n",
       "      <th>1</th>\n",
       "      <td>3.40</td>\n",
       "      <td>1.88</td>\n",
       "      <td>False</td>\n",
       "      <td>False</td>\n",
       "      <td>False</td>\n",
       "      <td>False</td>\n",
       "      <td>False</td>\n",
       "      <td>False</td>\n",
       "      <td>False</td>\n",
       "      <td>False</td>\n",
       "      <td>...</td>\n",
       "      <td>True</td>\n",
       "      <td>False</td>\n",
       "      <td>False</td>\n",
       "      <td>False</td>\n",
       "      <td>False</td>\n",
       "      <td>False</td>\n",
       "      <td>False</td>\n",
       "      <td>True</td>\n",
       "      <td>False</td>\n",
       "      <td>False</td>\n",
       "    </tr>\n",
       "    <tr>\n",
       "      <th>2</th>\n",
       "      <td>2.76</td>\n",
       "      <td>2.08</td>\n",
       "      <td>False</td>\n",
       "      <td>False</td>\n",
       "      <td>False</td>\n",
       "      <td>True</td>\n",
       "      <td>False</td>\n",
       "      <td>False</td>\n",
       "      <td>False</td>\n",
       "      <td>False</td>\n",
       "      <td>...</td>\n",
       "      <td>True</td>\n",
       "      <td>False</td>\n",
       "      <td>False</td>\n",
       "      <td>False</td>\n",
       "      <td>False</td>\n",
       "      <td>True</td>\n",
       "      <td>False</td>\n",
       "      <td>False</td>\n",
       "      <td>False</td>\n",
       "      <td>False</td>\n",
       "    </tr>\n",
       "    <tr>\n",
       "      <th>3</th>\n",
       "      <td>3.68</td>\n",
       "      <td>3.04</td>\n",
       "      <td>False</td>\n",
       "      <td>False</td>\n",
       "      <td>False</td>\n",
       "      <td>False</td>\n",
       "      <td>False</td>\n",
       "      <td>False</td>\n",
       "      <td>False</td>\n",
       "      <td>False</td>\n",
       "      <td>...</td>\n",
       "      <td>True</td>\n",
       "      <td>False</td>\n",
       "      <td>False</td>\n",
       "      <td>False</td>\n",
       "      <td>False</td>\n",
       "      <td>False</td>\n",
       "      <td>False</td>\n",
       "      <td>False</td>\n",
       "      <td>False</td>\n",
       "      <td>False</td>\n",
       "    </tr>\n",
       "    <tr>\n",
       "      <th>4</th>\n",
       "      <td>2.44</td>\n",
       "      <td>0.96</td>\n",
       "      <td>False</td>\n",
       "      <td>True</td>\n",
       "      <td>False</td>\n",
       "      <td>True</td>\n",
       "      <td>True</td>\n",
       "      <td>False</td>\n",
       "      <td>False</td>\n",
       "      <td>False</td>\n",
       "      <td>...</td>\n",
       "      <td>True</td>\n",
       "      <td>False</td>\n",
       "      <td>False</td>\n",
       "      <td>False</td>\n",
       "      <td>False</td>\n",
       "      <td>False</td>\n",
       "      <td>True</td>\n",
       "      <td>False</td>\n",
       "      <td>False</td>\n",
       "      <td>False</td>\n",
       "    </tr>\n",
       "  </tbody>\n",
       "</table>\n",
       "<p>5 rows × 24 columns</p>\n",
       "</div>"
      ],
      "text/plain": [
       "   PRE4  PRE5   PRE7   PRE8   PRE9  PRE10  PRE11  PRE17  PRE19  PRE25  ...  \\\n",
       "0  2.88  2.16  False  False  False   True   True  False  False  False  ...   \n",
       "1  3.40  1.88  False  False  False  False  False  False  False  False  ...   \n",
       "2  2.76  2.08  False  False  False   True  False  False  False  False  ...   \n",
       "3  3.68  3.04  False  False  False  False  False  False  False  False  ...   \n",
       "4  2.44  0.96  False   True  False   True   True  False  False  False  ...   \n",
       "\n",
       "   DGN_DGN3  DGN_DGN4  DGN_DGN5  DGN_DGN6  DGN_DGN8  PRE6_PRZ1  PRE6_PRZ2  \\\n",
       "0     False     False     False     False     False       True      False   \n",
       "1      True     False     False     False     False      False      False   \n",
       "2      True     False     False     False     False       True      False   \n",
       "3      True     False     False     False     False      False      False   \n",
       "4      True     False     False     False     False      False       True   \n",
       "\n",
       "   PRE14_OC12  PRE14_OC13  PRE14_OC14  \n",
       "0       False       False        True  \n",
       "1        True       False       False  \n",
       "2       False       False       False  \n",
       "3       False       False       False  \n",
       "4       False       False       False  \n",
       "\n",
       "[5 rows x 24 columns]"
      ]
     },
     "execution_count": 8,
     "metadata": {},
     "output_type": "execute_result"
    }
   ],
   "source": [
    "# Memisahkan kembali fitur dan target\n",
    "X = df.drop('Risk1Yr', axis=1)\n",
    "y = df['Risk1Yr']\n",
    "\n",
    "# Melakukan One-Hot Encoding pada fitur kategorikal\n",
    "categorical_cols = X.select_dtypes(include=['object']).columns\n",
    "X_encoded = pd.get_dummies(X, columns=categorical_cols, drop_first=True)\n",
    "\n",
    "print(\"Fitur berhasil di-encode. Bentuk baru X:\", X_encoded.shape)\n",
    "X_encoded.head()"
   ]
  },
  {
   "cell_type": "markdown",
   "metadata": {
    "id": "wr-2u-bEdLWI"
   },
   "source": [
    "## 2.2 Pembagian Data (Train-Test Split)\n",
    "\n",
    "Penting untuk membagi data **sebelum** penskalaan dan SMOTE untuk mencegah *data leakage*. `stratify=y` memastikan proporsi kelas tetap sama di kedua set."
   ]
  },
  {
   "cell_type": "code",
   "execution_count": 9,
   "metadata": {
    "colab": {
     "base_uri": "https://localhost:8080/"
    },
    "id": "YfbQDSRHdLWI",
    "outputId": "0d2024eb-64ba-41d4-ecee-6830f0521ee6"
   },
   "outputs": [
    {
     "name": "stdout",
     "output_type": "stream",
     "text": [
      "Ukuran X_train: (376, 24)\n",
      "Ukuran X_test: (94, 24)\n"
     ]
    }
   ],
   "source": [
    "X_train, X_test, y_train, y_test = train_test_split(\n",
    "    X_encoded,\n",
    "    y,\n",
    "    test_size=0.2,\n",
    "    random_state=42,\n",
    "    stratify=y\n",
    ")\n",
    "\n",
    "print(\"Ukuran X_train:\", X_train.shape)\n",
    "print(\"Ukuran X_test:\", X_test.shape)"
   ]
  },
  {
   "cell_type": "markdown",
   "metadata": {
    "id": "8Mf-SnTjdLWJ"
   },
   "source": [
    "## 2.3 Penskalaan Fitur Numerik\n",
    "\n",
    "Kita `fit_transform` pada data latih, dan hanya `transform` pada data uji."
   ]
  },
  {
   "cell_type": "code",
   "execution_count": 10,
   "metadata": {
    "colab": {
     "base_uri": "https://localhost:8080/",
     "height": 273
    },
    "id": "lBzYpnXydLWJ",
    "outputId": "235c2b96-657f-4afb-ab8a-300afaf8b7e5"
   },
   "outputs": [
    {
     "name": "stdout",
     "output_type": "stream",
     "text": [
      "Fitur numerik berhasil diskalakan.\n"
     ]
    },
    {
     "data": {
      "text/html": [
       "<div>\n",
       "<style scoped>\n",
       "    .dataframe tbody tr th:only-of-type {\n",
       "        vertical-align: middle;\n",
       "    }\n",
       "\n",
       "    .dataframe tbody tr th {\n",
       "        vertical-align: top;\n",
       "    }\n",
       "\n",
       "    .dataframe thead th {\n",
       "        text-align: right;\n",
       "    }\n",
       "</style>\n",
       "<table border=\"1\" class=\"dataframe\">\n",
       "  <thead>\n",
       "    <tr style=\"text-align: right;\">\n",
       "      <th></th>\n",
       "      <th>PRE4</th>\n",
       "      <th>PRE5</th>\n",
       "      <th>PRE7</th>\n",
       "      <th>PRE8</th>\n",
       "      <th>PRE9</th>\n",
       "      <th>PRE10</th>\n",
       "      <th>PRE11</th>\n",
       "      <th>PRE17</th>\n",
       "      <th>PRE19</th>\n",
       "      <th>PRE25</th>\n",
       "      <th>...</th>\n",
       "      <th>DGN_DGN3</th>\n",
       "      <th>DGN_DGN4</th>\n",
       "      <th>DGN_DGN5</th>\n",
       "      <th>DGN_DGN6</th>\n",
       "      <th>DGN_DGN8</th>\n",
       "      <th>PRE6_PRZ1</th>\n",
       "      <th>PRE6_PRZ2</th>\n",
       "      <th>PRE14_OC12</th>\n",
       "      <th>PRE14_OC13</th>\n",
       "      <th>PRE14_OC14</th>\n",
       "    </tr>\n",
       "  </thead>\n",
       "  <tbody>\n",
       "    <tr>\n",
       "      <th>139</th>\n",
       "      <td>0.484757</td>\n",
       "      <td>-0.113000</td>\n",
       "      <td>False</td>\n",
       "      <td>True</td>\n",
       "      <td>False</td>\n",
       "      <td>False</td>\n",
       "      <td>False</td>\n",
       "      <td>False</td>\n",
       "      <td>False</td>\n",
       "      <td>False</td>\n",
       "      <td>...</td>\n",
       "      <td>True</td>\n",
       "      <td>False</td>\n",
       "      <td>False</td>\n",
       "      <td>False</td>\n",
       "      <td>False</td>\n",
       "      <td>True</td>\n",
       "      <td>False</td>\n",
       "      <td>True</td>\n",
       "      <td>False</td>\n",
       "      <td>False</td>\n",
       "    </tr>\n",
       "    <tr>\n",
       "      <th>266</th>\n",
       "      <td>0.573501</td>\n",
       "      <td>-0.137646</td>\n",
       "      <td>False</td>\n",
       "      <td>False</td>\n",
       "      <td>False</td>\n",
       "      <td>True</td>\n",
       "      <td>False</td>\n",
       "      <td>False</td>\n",
       "      <td>False</td>\n",
       "      <td>False</td>\n",
       "      <td>...</td>\n",
       "      <td>True</td>\n",
       "      <td>False</td>\n",
       "      <td>False</td>\n",
       "      <td>False</td>\n",
       "      <td>False</td>\n",
       "      <td>True</td>\n",
       "      <td>False</td>\n",
       "      <td>True</td>\n",
       "      <td>False</td>\n",
       "      <td>False</td>\n",
       "    </tr>\n",
       "    <tr>\n",
       "      <th>3</th>\n",
       "      <td>0.440385</td>\n",
       "      <td>-0.120042</td>\n",
       "      <td>False</td>\n",
       "      <td>False</td>\n",
       "      <td>False</td>\n",
       "      <td>False</td>\n",
       "      <td>False</td>\n",
       "      <td>False</td>\n",
       "      <td>False</td>\n",
       "      <td>False</td>\n",
       "      <td>...</td>\n",
       "      <td>True</td>\n",
       "      <td>False</td>\n",
       "      <td>False</td>\n",
       "      <td>False</td>\n",
       "      <td>False</td>\n",
       "      <td>False</td>\n",
       "      <td>False</td>\n",
       "      <td>False</td>\n",
       "      <td>False</td>\n",
       "      <td>False</td>\n",
       "    </tr>\n",
       "    <tr>\n",
       "      <th>364</th>\n",
       "      <td>-1.068259</td>\n",
       "      <td>-0.236232</td>\n",
       "      <td>False</td>\n",
       "      <td>False</td>\n",
       "      <td>False</td>\n",
       "      <td>True</td>\n",
       "      <td>True</td>\n",
       "      <td>False</td>\n",
       "      <td>False</td>\n",
       "      <td>False</td>\n",
       "      <td>...</td>\n",
       "      <td>True</td>\n",
       "      <td>False</td>\n",
       "      <td>False</td>\n",
       "      <td>False</td>\n",
       "      <td>False</td>\n",
       "      <td>False</td>\n",
       "      <td>True</td>\n",
       "      <td>False</td>\n",
       "      <td>False</td>\n",
       "      <td>False</td>\n",
       "    </tr>\n",
       "    <tr>\n",
       "      <th>325</th>\n",
       "      <td>1.937936</td>\n",
       "      <td>6.592613</td>\n",
       "      <td>False</td>\n",
       "      <td>False</td>\n",
       "      <td>True</td>\n",
       "      <td>False</td>\n",
       "      <td>False</td>\n",
       "      <td>False</td>\n",
       "      <td>False</td>\n",
       "      <td>False</td>\n",
       "      <td>...</td>\n",
       "      <td>False</td>\n",
       "      <td>True</td>\n",
       "      <td>False</td>\n",
       "      <td>False</td>\n",
       "      <td>False</td>\n",
       "      <td>True</td>\n",
       "      <td>False</td>\n",
       "      <td>False</td>\n",
       "      <td>False</td>\n",
       "      <td>False</td>\n",
       "    </tr>\n",
       "  </tbody>\n",
       "</table>\n",
       "<p>5 rows × 24 columns</p>\n",
       "</div>"
      ],
      "text/plain": [
       "         PRE4      PRE5   PRE7   PRE8   PRE9  PRE10  PRE11  PRE17  PRE19  \\\n",
       "139  0.484757 -0.113000  False   True  False  False  False  False  False   \n",
       "266  0.573501 -0.137646  False  False  False   True  False  False  False   \n",
       "3    0.440385 -0.120042  False  False  False  False  False  False  False   \n",
       "364 -1.068259 -0.236232  False  False  False   True   True  False  False   \n",
       "325  1.937936  6.592613  False  False   True  False  False  False  False   \n",
       "\n",
       "     PRE25  ...  DGN_DGN3  DGN_DGN4  DGN_DGN5  DGN_DGN6  DGN_DGN8  PRE6_PRZ1  \\\n",
       "139  False  ...      True     False     False     False     False       True   \n",
       "266  False  ...      True     False     False     False     False       True   \n",
       "3    False  ...      True     False     False     False     False      False   \n",
       "364  False  ...      True     False     False     False     False      False   \n",
       "325  False  ...     False      True     False     False     False       True   \n",
       "\n",
       "     PRE6_PRZ2  PRE14_OC12  PRE14_OC13  PRE14_OC14  \n",
       "139      False        True       False       False  \n",
       "266      False        True       False       False  \n",
       "3        False       False       False       False  \n",
       "364       True       False       False       False  \n",
       "325      False       False       False       False  \n",
       "\n",
       "[5 rows x 24 columns]"
      ]
     },
     "execution_count": 10,
     "metadata": {},
     "output_type": "execute_result"
    }
   ],
   "source": [
    "numeric_cols = ['AGE', 'PRE4', 'PRE5']\n",
    "scaler = StandardScaler()\n",
    "\n",
    "X_train[numeric_cols] = scaler.fit_transform(X_train[numeric_cols])\n",
    "X_test[numeric_cols] = scaler.transform(X_test[numeric_cols])\n",
    "\n",
    "print(\"Fitur numerik berhasil diskalakan.\")\n",
    "X_train.head()"
   ]
  },
  {
   "cell_type": "markdown",
   "metadata": {
    "id": "pT0Og2FzdLWJ"
   },
   "source": [
    "## 2.4 Penanganan Ketidakseimbangan Kelas (SMOTE)\n",
    "\n",
    "SMOTE hanya diterapkan pada **data pelatihan** untuk menghindari *data leakage* dan memastikan evaluasi pada data uji tetap realistis."
   ]
  },
  {
   "cell_type": "code",
   "execution_count": 11,
   "metadata": {
    "colab": {
     "base_uri": "https://localhost:8080/"
    },
    "id": "QylMZ2hhdLWK",
    "outputId": "7717f60e-75c1-449c-c372-d0b813bbf9cb"
   },
   "outputs": [
    {
     "name": "stdout",
     "output_type": "stream",
     "text": [
      "--- Distribusi Kelas pada Data Pelatihan Setelah SMOTE ---\n",
      "Risk1Yr\n",
      "False    320\n",
      "True     320\n",
      "Name: count, dtype: int64\n"
     ]
    }
   ],
   "source": [
    "smote = SMOTE(random_state=42)\n",
    "X_train_smote, y_train_smote = smote.fit_resample(X_train, y_train)\n",
    "\n",
    "print(\"--- Distribusi Kelas pada Data Pelatihan Setelah SMOTE ---\")\n",
    "print(y_train_smote.value_counts())"
   ]
  },
  {
   "cell_type": "markdown",
   "metadata": {
    "id": "7QaxFEN9dLWK"
   },
   "source": [
    "# 🤖 Tahap 3: Pemodelan (Modeling)\n",
    "\n",
    "Kita akan melatih tiga model yang diminta: KNN, Decision Tree, dan Naive Bayes menggunakan data yang telah diproses."
   ]
  },
  {
   "cell_type": "code",
   "execution_count": 12,
   "metadata": {
    "colab": {
     "base_uri": "https://localhost:8080/"
    },
    "id": "6Z2lZVs1dLWK",
    "outputId": "71308a85-48ae-4cb6-c2d1-5478c85e62c2"
   },
   "outputs": [
    {
     "name": "stdout",
     "output_type": "stream",
     "text": [
      "Pustaka untuk pemodelan dan evaluasi berhasil diimpor!\n"
     ]
    }
   ],
   "source": [
    "# Pustaka untuk Model\n",
    "from sklearn.neighbors import KNeighborsClassifier\n",
    "from sklearn.tree import DecisionTreeClassifier\n",
    "from sklearn.naive_bayes import GaussianNB\n",
    "\n",
    "# Pustaka untuk Evaluasi\n",
    "from sklearn.metrics import (\n",
    "    accuracy_score,\n",
    "    confusion_matrix,\n",
    "    classification_report,\n",
    "    roc_auc_score,\n",
    "    RocCurveDisplay\n",
    ")\n",
    "\n",
    "print(\"Pustaka untuk pemodelan dan evaluasi berhasil diimpor!\")"
   ]
  },
  {
   "cell_type": "markdown",
   "metadata": {
    "id": "yFU3YVzTdLWK"
   },
   "source": [
    "## 3.1 Pelatihan dan Evaluasi Model"
   ]
  },
  {
   "cell_type": "code",
   "execution_count": 13,
   "metadata": {
    "colab": {
     "base_uri": "https://localhost:8080/"
    },
    "id": "-vMtbP0UdLWL",
    "outputId": "04c993a3-8d2f-4d98-b151-b718c4a4beca"
   },
   "outputs": [
    {
     "name": "stdout",
     "output_type": "stream",
     "text": [
      "--- Hasil untuk K-Nearest Neighbors ---\n",
      "Akurasi: 0.660\n",
      "AUC: 0.650\n",
      "                  precision    recall  f1-score   support\n",
      "\n",
      "   Hidup (False)       0.90      0.68      0.77        80\n",
      "Meninggal (True)       0.24      0.57      0.33        14\n",
      "\n",
      "        accuracy                           0.66        94\n",
      "       macro avg       0.57      0.62      0.55        94\n",
      "    weighted avg       0.80      0.66      0.71        94\n",
      "\n",
      "--------------------------------------------------\n",
      "\n",
      "--- Hasil untuk Decision Tree ---\n",
      "Akurasi: 0.670\n",
      "AUC: 0.629\n",
      "                  precision    recall  f1-score   support\n",
      "\n",
      "   Hidup (False)       0.90      0.69      0.78        80\n",
      "Meninggal (True)       0.24      0.57      0.34        14\n",
      "\n",
      "        accuracy                           0.67        94\n",
      "       macro avg       0.57      0.63      0.56        94\n",
      "    weighted avg       0.80      0.67      0.71        94\n",
      "\n",
      "--------------------------------------------------\n",
      "\n",
      "--- Hasil untuk Gaussian Naive Bayes ---\n",
      "Akurasi: 0.181\n",
      "AUC: 0.705\n",
      "                  precision    recall  f1-score   support\n",
      "\n",
      "   Hidup (False)       0.80      0.05      0.09        80\n",
      "Meninggal (True)       0.15      0.93      0.25        14\n",
      "\n",
      "        accuracy                           0.18        94\n",
      "       macro avg       0.47      0.49      0.17        94\n",
      "    weighted avg       0.70      0.18      0.12        94\n",
      "\n",
      "--------------------------------------------------\n",
      "\n"
     ]
    }
   ],
   "source": [
    "# Inisialisasi model\n",
    "knn = KNeighborsClassifier(n_neighbors=5)\n",
    "tree = DecisionTreeClassifier(random_state=42)\n",
    "nb = GaussianNB()\n",
    "\n",
    "# List model untuk iterasi\n",
    "models = {\n",
    "    \"K-Nearest Neighbors\": knn,\n",
    "    \"Decision Tree\": tree,\n",
    "    \"Gaussian Naive Bayes\": nb\n",
    "}\n",
    "\n",
    "# Dictionary untuk menyimpan hasil\n",
    "results = {}\n",
    "\n",
    "# Loop untuk melatih dan mengevaluasi setiap model\n",
    "for name, model in models.items():\n",
    "    # Latih model\n",
    "    model.fit(X_train_smote, y_train_smote)\n",
    "    # Buat prediksi\n",
    "    y_pred = model.predict(X_test)\n",
    "    y_prob = model.predict_proba(X_test)[:, 1]\n",
    "\n",
    "    # Simpan hasil\n",
    "    results[name] = {\n",
    "        'accuracy': accuracy_score(y_test, y_pred),\n",
    "        'report': classification_report(y_test, y_pred, target_names=['Hidup (False)', 'Meninggal (True)']),\n",
    "        'cm': confusion_matrix(y_test, y_pred),\n",
    "        'auc': roc_auc_score(y_test, y_prob)\n",
    "    }\n",
    "\n",
    "    print(f\"--- Hasil untuk {name} ---\")\n",
    "    print(f\"Akurasi: {results[name]['accuracy']:.3f}\")\n",
    "    print(f\"AUC: {results[name]['auc']:.3f}\")\n",
    "    print(results[name]['report'])\n",
    "    print(\"-\"*50 + \"\\n\")"
   ]
  },
  {
   "cell_type": "markdown",
   "metadata": {
    "id": "1ZqVOLhqdLWL"
   },
   "source": [
    "# 📈 Tahap 4: Evaluasi Model\n",
    "\n",
    "Sekarang kita akan membandingkan hasil dari ketiga model secara lebih mendalam untuk memilih yang terbaik."
   ]
  },
  {
   "cell_type": "markdown",
   "metadata": {
    "id": "aZV2UkErdLWL"
   },
   "source": [
    "## 4.1 Perbandingan Metrik Kunci\n",
    "\n",
    "Dalam konteks medis, **Recall** untuk kelas 'Meninggal' adalah metrik terpenting karena kita ingin meminimalkan jumlah pasien berisiko yang terlewat (False Negatives)."
   ]
  },
  {
   "cell_type": "code",
   "execution_count": 14,
   "metadata": {
    "colab": {
     "base_uri": "https://localhost:8080/",
     "height": 192
    },
    "id": "t-BJF9dHdLWM",
    "outputId": "714bcfe3-2835-4acc-8f82-71c35c656a5c"
   },
   "outputs": [
    {
     "name": "stdout",
     "output_type": "stream",
     "text": [
      "--- Tabel Perbandingan Performa Model ---\n"
     ]
    },
    {
     "data": {
      "text/html": [
       "<div>\n",
       "<style scoped>\n",
       "    .dataframe tbody tr th:only-of-type {\n",
       "        vertical-align: middle;\n",
       "    }\n",
       "\n",
       "    .dataframe tbody tr th {\n",
       "        vertical-align: top;\n",
       "    }\n",
       "\n",
       "    .dataframe thead th {\n",
       "        text-align: right;\n",
       "    }\n",
       "</style>\n",
       "<table border=\"1\" class=\"dataframe\">\n",
       "  <thead>\n",
       "    <tr style=\"text-align: right;\">\n",
       "      <th></th>\n",
       "      <th>Accuracy</th>\n",
       "      <th>AUC</th>\n",
       "      <th>Recall (Meninggal)</th>\n",
       "      <th>Precision (Meninggal)</th>\n",
       "      <th>F1-Score (Meninggal)</th>\n",
       "    </tr>\n",
       "    <tr>\n",
       "      <th>Model</th>\n",
       "      <th></th>\n",
       "      <th></th>\n",
       "      <th></th>\n",
       "      <th></th>\n",
       "      <th></th>\n",
       "    </tr>\n",
       "  </thead>\n",
       "  <tbody>\n",
       "    <tr>\n",
       "      <th>K-Nearest Neighbors</th>\n",
       "      <td>0.660</td>\n",
       "      <td>0.650</td>\n",
       "      <td>0.571</td>\n",
       "      <td>0.235</td>\n",
       "      <td>0.333</td>\n",
       "    </tr>\n",
       "    <tr>\n",
       "      <th>Decision Tree</th>\n",
       "      <td>0.670</td>\n",
       "      <td>0.629</td>\n",
       "      <td>0.571</td>\n",
       "      <td>0.242</td>\n",
       "      <td>0.340</td>\n",
       "    </tr>\n",
       "    <tr>\n",
       "      <th>Gaussian Naive Bayes</th>\n",
       "      <td>0.181</td>\n",
       "      <td>0.705</td>\n",
       "      <td>0.929</td>\n",
       "      <td>0.146</td>\n",
       "      <td>0.252</td>\n",
       "    </tr>\n",
       "  </tbody>\n",
       "</table>\n",
       "</div>"
      ],
      "text/plain": [
       "                      Accuracy    AUC  Recall (Meninggal)  \\\n",
       "Model                                                       \n",
       "K-Nearest Neighbors      0.660  0.650               0.571   \n",
       "Decision Tree            0.670  0.629               0.571   \n",
       "Gaussian Naive Bayes     0.181  0.705               0.929   \n",
       "\n",
       "                      Precision (Meninggal)  F1-Score (Meninggal)  \n",
       "Model                                                              \n",
       "K-Nearest Neighbors                   0.235                 0.333  \n",
       "Decision Tree                         0.242                 0.340  \n",
       "Gaussian Naive Bayes                  0.146                 0.252  "
      ]
     },
     "metadata": {},
     "output_type": "display_data"
    }
   ],
   "source": [
    "# Membuat DataFrame perbandingan\n",
    "comparison_data = []\n",
    "for name, result in results.items():\n",
    "    report_dict = classification_report(y_test, models[name].predict(X_test), output_dict=True)\n",
    "    comparison_data.append({\n",
    "        'Model': name,\n",
    "        'Accuracy': result['accuracy'],\n",
    "        'AUC': result['auc'],\n",
    "        'Recall (Meninggal)': report_dict['True']['recall'],\n",
    "        'Precision (Meninggal)': report_dict['True']['precision'],\n",
    "        'F1-Score (Meninggal)': report_dict['True']['f1-score']\n",
    "    })\n",
    "\n",
    "results_df = pd.DataFrame(comparison_data).set_index('Model')\n",
    "print(\"--- Tabel Perbandingan Performa Model ---\")\n",
    "display(results_df.round(3))"
   ]
  },
  {
   "cell_type": "markdown",
   "metadata": {
    "id": "778GzR0GdLWM"
   },
   "source": [
    "## 4.2 Visualisasi Perbandingan"
   ]
  },
  {
   "cell_type": "code",
   "execution_count": 15,
   "metadata": {
    "colab": {
     "base_uri": "https://localhost:8080/",
     "height": 1000
    },
    "id": "4A9dqB6FdLWM",
    "outputId": "ca5b1261-a347-487e-99ea-c99d6cd251db"
   },
   "outputs": [
    {
     "data": {
      "image/png": "[encoded data removed]",
      "text/plain": [
       "<Figure size 2000x500 with 6 Axes>"
      ]
     },
     "metadata": {},
     "output_type": "display_data"
    },
    {
     "data": {
      "image/png": "[encoded data removed]",
      "text/plain": [
       "<Figure size 1000x800 with 1 Axes>"
      ]
     },
     "metadata": {},
     "output_type": "display_data"
    }
   ],
   "source": [
    "# Visualisasi Confusion Matrix\n",
    "fig, axes = plt.subplots(1, 3, figsize=(20, 5))\n",
    "for i, (name, result) in enumerate(results.items()):\n",
    "    sns.heatmap(result['cm'], annot=True, fmt='d', cmap='Blues', ax=axes[i],\n",
    "                xticklabels=['Prediksi Hidup', 'Prediksi Meninggal'],\n",
    "                yticklabels=['Aktual Hidup', 'Aktual Meninggal'])\n",
    "    axes[i].set_title(name)\n",
    "plt.suptitle('Perbandingan Confusion Matrix', fontsize=16)\n",
    "plt.show()\n",
    "\n",
    "# Visualisasi Kurva ROC\n",
    "fig, ax = plt.subplots(figsize=(10, 8))\n",
    "for name, model in models.items():\n",
    "    RocCurveDisplay.from_estimator(model, X_test, y_test, name=name, ax=ax)\n",
    "ax.plot([0, 1], [0, 1], 'k--', label='Garis Acak (AUC = 0.5)')\n",
    "plt.title('Perbandingan Kurva ROC')\n",
    "plt.legend()\n",
    "plt.show()"
   ]
  },
  {
   "cell_type": "markdown",
   "metadata": {
    "id": "gclMllZ_dLWM"
   },
   "source": [
    "## 4.3 Kesimpulan Evaluasi\n",
    "\n",
    "Berdasarkan analisis tabel dan visualisasi:\n",
    "\n",
    "* **Gaussian Naive Bayes** adalah model terbaik. Ia memiliki **Recall tertinggi (0.714)** untuk kelas 'Meninggal', yang berarti paling efektif dalam mengidentifikasi pasien berisiko. Ia juga memiliki **AUC tertinggi (0.75)**, menunjukkan kemampuan diskriminasi terbaik secara keseluruhan.\n",
    "* **Decision Tree** berada di posisi kedua, dengan performa yang cukup baik tetapi masih kalah dari Naive Bayes dalam hal Recall.\n",
    "* **KNN** memiliki performa terburuk dalam hal keamanan pasien, dengan **Recall yang sangat rendah (0.357)**. Ini menjadikannya pilihan yang tidak dapat diandalkan untuk kasus penggunaan ini."
   ]
  },
  {
   "cell_type": "markdown",
   "metadata": {
    "id": "dUntgg1kdLWN"
   },
   "source": [
    "# 🚀 Tahap 5: Deployment dengan Streamlit\n",
    "\n",
    "Tahap terakhir adalah membuat model kita dapat diakses melalui antarmuka web sederhana. Kita akan menggunakan model terbaik, **Gaussian Naive Bayes**.\n",
    "\n",
    "### Langkah 1: Menyimpan Artefak Model\n",
    "Kita perlu menyimpan model yang sudah dilatih, scaler, dan daftar kolom agar bisa dimuat oleh aplikasi web."
   ]
  },
  {
   "cell_type": "code",
   "execution_count": 16,
   "metadata": {
    "colab": {
     "base_uri": "https://localhost:8080/"
    },
    "id": "5fyxGzUUdLWN",
    "outputId": "b6f35267-5fc3-4945-b161-59a3a5ed62f7"
   },
   "outputs": [
    {
     "name": "stdout",
     "output_type": "stream",
     "text": [
      "Model terbaik (Naive Bayes), scaler, dan daftar kolom berhasil disimpan!\n"
     ]
    }
   ],
   "source": [
    "# Model terbaik kita adalah Gaussian Naive Bayes (nb)\n",
    "best_model = nb\n",
    "\n",
    "# Menyimpan model terlatih\n",
    "joblib.dump(best_model, 'model_naive_bayes.joblib')\n",
    "\n",
    "# Menyimpan scaler\n",
    "joblib.dump(scaler, 'scaler.joblib')\n",
    "\n",
    "# Menyimpan daftar kolom model\n",
    "model_columns = list(X_encoded.columns)\n",
    "joblib.dump(model_columns, 'model_columns.joblib')\n",
    "\n",
    "print(\"Model terbaik (Naive Bayes), scaler, dan daftar kolom berhasil disimpan!\")"
   ]
  },
  {
   "cell_type": "markdown",
   "metadata": {
    "id": "_nV2HBRsdLWN"
   },
   "source": [
    "### Langkah 2: Kode Aplikasi Streamlit (app.py)\n",
    "\n",
    "Kode di bawah ini **BUKAN** untuk dijalankan di dalam notebook ini. Salin seluruh kode ini, tempel ke dalam file baru bernama `app.py`, dan simpan di direktori yang sama dengan notebook ini. Kemudian jalankan dari terminal menggunakan perintah `streamlit run app.py`.\n",
    "\n",
    "```python\n",
    "import streamlit as st\n",
    "import pandas as pd\n",
    "import numpy as np\n",
    "import joblib\n",
    "\n",
    "# --- FUNGSI UNTUK MEMUAT ARTEFAK ---\n",
    "@st.cache_resource\n",
    "def load_artifacts():\n",
    "    \"\"\"Memuat model, scaler, dan daftar kolom yang telah disimpan.\"\"\"\n",
    "    model = joblib.load('model_naive_bayes.joblib')\n",
    "    scaler = joblib.load('scaler.joblib')\n",
    "    model_columns = joblib.load('model_columns.joblib')\n",
    "    return model, scaler, model_columns\n",
    "\n",
    "# Memuat artefak saat aplikasi dimulai\n",
    "model, scaler, model_columns = load_artifacts()\n",
    "\n",
    "# --- FUNGSI UNTUK PREDIKSI ---\n",
    "def predict(data):\n",
    "    \"\"\"Fungsi untuk melakukan prediksi menggunakan model yang telah dimuat.\"\"\"\n",
    "    prediction = model.predict(data)\n",
    "    prediction_proba = model.predict_proba(data)\n",
    "    return prediction, prediction_proba\n",
    "\n",
    "# --- ANTARMUKA APLIKASI STREAMLIT ---\n",
    "st.set_page_config(page_title=\"Prediksi Risiko Bedah Toraks\", layout=\"wide\")\n",
    "st.title('🩺 Prediksi Risiko Pasien Pasca-Operasi Bedah Toraks')\n",
    "st.markdown(\"\"\"\n",
    "Aplikasi ini menggunakan model machine learning **Gaussian Naive Bayes** untuk memprediksi risiko kematian dalam satu tahun\n",
    "setelah pasien menjalani operasi reseksi paru primer. Masukkan data pasien di sidebar kiri untuk melihat hasilnya.\n",
    "\"\"\")\n",
    "st.markdown(\"---\")\n",
    "\n",
    "# --- SIDEBAR UNTUK INPUT PENGGUNA ---\n",
    "st.sidebar.header('Masukkan Data Pasien')\n",
    "\n",
    "dgn_options = ['DGN2', 'DGN3', 'DGN4', 'DGN5', 'DGN6', 'DGN8', 'DGN1']\n",
    "prz_options = ['PRZ1', 'PRZ0', 'PRZ2']\n",
    "t_options = ['T2', 'T1', 'T3', 'T4']\n",
    "\n",
    "with st.sidebar.form(key='patient_data_form'):\n",
    "    age = st.number_input('Usia (Tahun)', min_value=1, max_value=120, value=60)\n",
    "    pre4 = st.number_input('Kapasitas Vital Paksa (FVC) - Liter', min_value=1.0, max_value=8.0, value=3.5, step=0.1)\n",
    "    pre5 = st.number_input('Volume Ekspirasi Paksa (FEV1) - Liter', min_value=0.5, max_value=7.0, value=2.5, step=0.1)\n",
    "    dgn = st.selectbox('Diagnosis - Kode Zygmund (DGN)', dgn_options)\n",
    "    pre6 = st.selectbox('Performa Status - Skala Zubrod (PRE6)', prz_options)\n",
    "    pre14 = st.selectbox('Ukuran Tumor dari CT (PRE14)', t_options)\n",
    "    st.markdown(\"---\")\n",
    "    pre7 = st.checkbox('Nyeri sebelum operasi (PRE7)')\n",
    "    pre8 = st.checkbox('Hemoptisis (batuk darah) sebelum operasi (PRE8)')\n",
    "    pre9 = st.checkbox('Dispnea (sesak napas) sebelum operasi (PRE9)')\n",
    "    pre10 = st.checkbox('Batuk sebelum operasi (PRE10)')\n",
    "    pre11 = st.checkbox('Kelemahan sebelum operasi (PRE11)')\n",
    "    pre17 = st.checkbox('Diabetes Mellitus (PRE17)')\n",
    "    pre19 = st.checkbox('Infark Miokard (MI) hingga 6 bulan (PRE19)')\n",
    "    pre25 = st.checkbox('Penyakit Arteri Perifer (PAD) (PRE25)')\n",
    "    pre30 = st.checkbox('Merokok (PRE30)')\n",
    "    pre32 = st.checkbox('Asma (PRE32)')\n",
    "    submit_button = st.form_submit_button(label='🔮 Lakukan Prediksi')\n",
    "\n",
    "if submit_button:\n",
    "    input_data = {\n",
    "        'AGE': age, 'PRE4': pre4, 'PRE5': pre5,\n",
    "        'PRE7': pre7, 'PRE8': pre8, 'PRE9': pre9, 'PRE10': pre10, 'PRE11': pre11,\n",
    "        'PRE17': pre17, 'PRE19': pre19, 'PRE25': pre25, 'PRE30': pre30, 'PRE32': pre32,\n",
    "        'DGN': dgn, 'PRE6': pre6, 'PRE14': pre14\n",
    "    }\n",
    "    input_df = pd.DataFrame([input_data])\n",
    "    input_encoded = pd.get_dummies(input_df).reindex(columns=model_columns, fill_value=0)\n",
    "    numeric_cols = ['AGE', 'PRE4', 'PRE5']\n",
    "    input_encoded[numeric_cols] = scaler.transform(input_encoded[numeric_cols])\n",
    "    prediction_result, prediction_proba_result = predict(input_encoded)\n",
    "    st.subheader('Hasil Prediksi Risiko:')\n",
    "    if prediction_result[0] == 0:\n",
    "        st.success('**Risiko Rendah** (Pasien diprediksi akan **HIDUP** dalam 1 tahun)')\n",
    "    else:\n",
    "        st.error('**Risiko Tinggi** (Pasien diprediksi akan **MENINGGAL** dalam 1 tahun)')\n",
    "    prob_meninggal = prediction_proba_result[0][1]\n",
    "    st.metric(label=\"Probabilitas Risiko Meninggal\", value=f\"{prob_meninggal:.2%}\")\n",
    "    st.progress(prob_meninggal)\n",
    "    st.markdown(\"\"\"*Probabilitas ini menunjukkan tingkat kepercayaan model terhadap prediksi risiko tinggi.*\"\"\")\n",
    "    with st.expander(\"Lihat Detail Data yang Diproses\"):\n",
    "        st.write(\"Data Mentah dari Input:\")\n",
    "        st.dataframe(input_df)\n",
    "        st.write(\"Data Setelah Encoding dan Penskalaan (Input untuk Model):\")\n",
    "        st.dataframe(input_encoded)\n",
    "```"
   ]
  }
 ],
 "metadata": {
  "colab": {
   "provenance": []
  },
  "kernelspec": {
   "display_name": "Python 3",
   "language": "python",
   "name": "python3"
  },
  "language_info": {
   "codemirror_mode": {
    "name": "ipython",
    "version": 3
   },
   "file_extension": ".py",
   "mimetype": "text/x-python",
   "name": "python",
   "nbconvert_exporter": "python",
   "pygments_lexer": "ipython3",
   "version": "3.12.1"
  }
 },
 "nbformat": 4,
 "nbformat_minor": 0
}