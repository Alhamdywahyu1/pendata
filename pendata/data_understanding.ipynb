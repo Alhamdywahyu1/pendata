{
 "cells": [
  {
   "cell_type": "markdown",
   "metadata": {},
   "source": [
    "# 📖 Data Understanding: Analisis Komprehensif Dataset Iris\n",
    "\n",
    "### Tujuan Proyek\n",
    "\n",
    "Tahap ini bertujuan untuk melakukan pemahaman data (Data Understanding) secara mendalam pada **Dataset Iris**. Skenario yang digunakan adalah data Iris yang terpisah di dua sistem database berbeda dan perlu diintegrasikan sebelum dianalisis.\n",
    "\n",
    "* **Database 1 (MySQL):** Menyimpan data `id`, `species`, dan pengukuran **sepal** (`sepal_length`, `sepal_width`).\n",
    "* **Database 2 (PostgreSQL):** Menyimpan data `id`, `species`, dan pengukuran **petal** (`petal_length`, `petal_width`).\n",
    "\n",
    "Tujuan kita adalah menggabungkan data ini, memverifikasi kualitasnya, dan melakukan analisis data eksploratif (EDA) untuk mendapatkan wawasan kunci.\n",
    "\n",
    "### Dataset: Bunga Iris\n",
    "Dataset ini adalah salah satu dataset paling terkenal dalam dunia machine learning. Berisi 150 sampel dari tiga spesies bunga Iris (*Setosa*, *Versicolor*, dan *Virginica*). Untuk setiap sampel, empat fitur diukur: panjang dan lebar kelopak (petal) dan daun mahkota (sepal).\n",
    "\n",
    "![Tiga Spesies Iris](https://upload.wikimedia.org/wikipedia/commons/thumb/c/c5/Iris_germanica_%28Purple_bearded_Iris%29%2C_Wakehurst_Place%2C_UK_-_Diliff.jpg/800px-Iris_germanica_%28Purple_bearded_Iris%29%2C_Wakehurst_Place%2C_UK_-_Diliff.jpg)"
   ]
  },
  {
   "cell_type": "markdown",
   "metadata": {},
   "source": [
    "## Langkah 1: Pengumpulan & Integrasi Data 🤝\n",
    "\n",
    "Langkah pertama adalah mengambil data dari kedua sumber dan menggabungkannya menjadi satu DataFrame yang utuh. Untuk tujuan demonstrasi ini, kita akan **mensimulasikan** pengambilan data ini dengan membuat dua DataFrame terpisah."
   ]
  },
  {
   "cell_type": "code",
   "execution_count": null,
   "metadata": {},
   "outputs": [],
   "source": [
    "import pandas as pd\n",
    "import numpy as np\n",
    "import seaborn as sns\n",
    "import matplotlib.pyplot as plt\n",
    "from sklearn.datasets import load_iris\n",
    "\n",
    "# --- Simulasi Pengambilan Data ---\n",
    "\n",
    "# Memuat dataset Iris asli dari scikit-learn untuk data yang realistis\n",
    "iris = load_iris()\n",
    "df_full = pd.DataFrame(data=iris.data, columns=iris.feature_names)\n",
    "df_full['species'] = [iris.target_names[i] for i in iris.target]\n",
    "df_full['id'] = range(1, len(df_full) + 1)\n",
    "\n",
    "# 1. Mensimulasikan data dari Database MySQL (Sepal) 🗄️\n",
    "print(\"Simulasi data dari MySQL (Pengukuran Sepal)...\")\n",
    "df_mysql = df_full[['id', 'species', 'sepal length (cm)', 'sepal width (cm)']].copy()\n",
    "# Mengubah nama kolom agar lebih sederhana\n",
    "df_mysql.rename(columns={\n",
    "    'sepal length (cm)': 'sepal_length',\n",
    "    'sepal width (cm)': 'sepal_width'\n",
    "}, inplace=True)\n",
    "print(df_mysql.head())\n",
    "print(\"-\" * 50)\n",
    "\n",
    "\n",
    "# 2. Mensimulasikan data dari Database PostgreSQL (Petal) 🐘\n",
    "print(\"Simulasi data dari PostgreSQL (Pengukuran Petal)...\")\n",
    "df_postgres = df_full[['id', 'species', 'petal length (cm)', 'petal width (cm)']].copy()\n",
    "# Mengubah nama kolom\n",
    "df_postgres.rename(columns={\n",
    "    'petal length (cm)': 'petal_length',\n",
    "    'petal width (cm)': 'petal_width'\n",
    "}, inplace=True)\n",
    "print(df_postgres.head())\n",
    "print(\"-\" * 50)\n",
    "\n",
    "\n",
    "# 3. Menggabungkan kedua DataFrame menjadi satu\n",
    "print(\"Menggabungkan kedua dataset...\")\n",
    "df_iris = pd.merge(df_mysql, df_postgres, on=['id', 'species'], how='inner')\n",
    "\n",
    "print(\"\\nData berhasil digabungkan!\")\n",
    "print(\"Lima baris pertama dari data gabungan:\")\n",
    "display(df_iris.head())"
   ]
  },
  {
   "cell_type": "markdown",
   "metadata": {},
   "source": [
    "## Langkah 2: Inspeksi & Verifikasi Data 🧐\n",
    "\n",
    "Setelah data digabungkan, kita perlu memeriksa struktur, tipe data, dan kualitasnya secara keseluruhan."
   ]
  },
  {
   "cell_type": "markdown",
   "metadata": {},
   "source": [
    "### Informasi Dasar & Kualitas Data\n",
    "Kita akan menggunakan `.info()` untuk mendapatkan ringkasan cepat tentang DataFrame, termasuk jumlah entri, kolom, nilai non-null, dan tipe data."
   ]
  },
  {
   "cell_type": "code",
   "execution_count": null,
   "metadata": {},
   "outputs": [],
   "source": [
    "print(\"--- Informasi Dasar DataFrame ---\")\n",
    "df_iris.info()"
   ]
  },
  {
   "cell_type": "markdown",
   "metadata": {},
   "source": [
    "**Interpretasi:**\n",
    "* **Entri:** Terdapat **150 entri**, sesuai dengan standar dataset Iris.\n",
    "* **Kolom:** Terdapat 6 kolom, sesuai dengan yang kita harapkan.\n",
    "* **Nilai Non-Null:** Semua kolom memiliki 150 nilai non-null. Ini adalah berita bagus, artinya **tidak ada data yang hilang (missing values)**.\n",
    "* **Tipe Data:** Tipe data sudah sesuai (`int64` untuk id, `object` untuk species, dan `float64` untuk pengukuran)."
   ]
  },
  {
   "cell_type": "markdown",
   "metadata": {},
   "source": [
    "### Statistik Deskriptif\n",
    "Fungsi `.describe()` memberikan ringkasan statistik untuk semua kolom numerik. Ini membantu kita memahami tendensi sentral, sebaran, dan rentang data."
   ]
  },
  {
   "cell_type": "code",
   "execution_count": null,
   "metadata": {},
   "outputs": [],
   "source": [
    "print(\"--- Statistik Deskriptif Fitur Numerik ---\")\n",
    "display(df_iris.describe().round(2))"
   ]
  },
  {
   "cell_type": "markdown",
   "metadata": {},
   "source": [
    "**Interpretasi:**\n",
    "* **Rata-rata (mean):** Kita bisa lihat rata-rata ukuran untuk setiap fitur. Contoh, `sepal_length` rata-rata adalah 5.84 cm.\n",
    "* **Standar Deviasi (std):** Menunjukkan sebaran data. `petal_length` (std=1.77) memiliki sebaran yang jauh lebih besar daripada `petal_width` (std=0.76).\n",
    "* **Min/Max:** Menunjukkan rentang nilai. `petal_length` bervariasi dari 1.0 cm hingga 6.9 cm, rentang yang sangat lebar."
   ]
  },
  {
   "cell_type": "markdown",
   "metadata": {},
   "source": [
    "### Distribusi Kelas (Spesies)\n",
    "Penting untuk mengetahui apakah dataset kita seimbang atau tidak."
   ]
  },
  {
   "cell_type": "code",
   "execution_count": null,
   "metadata": {},
   "outputs": [],
   "source": [
    "print(\"--- Distribusi Setiap Spesies ---\")\n",
    "print(df_iris['species'].value_counts())"
   ]
  },
  {
   "cell_type": "markdown",
   "metadata": {},
   "source": [
    "**Interpretasi:**\n",
    "Dataset ini **sangat seimbang**, dengan masing-masing dari tiga spesies memiliki tepat 50 sampel. Ini ideal untuk melatih model machine learning karena model tidak akan bias terhadap kelas tertentu."
   ]
  },
  {
   "cell_type": "markdown",
   "metadata": {},
   "source": [
    "## Langkah 3: Analisis Data Eksploratif (EDA) 📊\n",
    "\n",
    "Pada tahap ini, kita menggunakan visualisasi untuk menemukan pola, hubungan, dan anomali dalam data."
   ]
  },
  {
   "cell_type": "markdown",
   "metadata": {},
   "source": [
    "### Hubungan Antar Fitur (Pair Plot)\n",
    "*Pair plot* adalah cara yang fantastis untuk memvisualisasikan hubungan antara setiap pasang fitur dan melihat distribusi masing-masing fitur."
   ]
  },
  {
   "cell_type": "code",
   "execution_count": null,
   "metadata": {},
   "outputs": [],
   "source": [
    "# Mengatur gaya plot\n",
    "sns.set_style(\"whitegrid\")\n",
    "\n",
    "print(\"--- Membuat Pair Plot untuk Melihat Hubungan Antar Fitur ---\")\n",
    "sns.pairplot(df_iris.drop('id', axis=1), hue='species', palette='viridis', markers=[\"o\", \"s\", \"D\"])\n",
    "plt.suptitle('Hubungan Antar Fitur Berdasarkan Spesies', y=1.02)\n",
    "plt.show()"
   ]
  },
  {
   "cell_type": "markdown",
   "metadata": {},
   "source": [
    "**Wawasan dari Pair Plot:**\n",
    "1.  **Pemisahan yang Jelas:** Spesies **`Iris-setosa`** (lingkaran biru) sangat mudah dipisahkan dari dua spesies lainnya berdasarkan pengukuran `petal_length` dan `petal_width`.\n",
    "2.  **Tumpang Tindih:** Spesies **`Iris-versicolor`** (kotak hijau) dan **`Iris-virginica`** (diamond kuning) menunjukkan adanya tumpang tindih (overlap), terutama pada fitur sepal. Namun, mereka masih dapat dibedakan dengan cukup baik menggunakan fitur petal.\n",
    "3.  **Korelasi Kuat:** Terdapat hubungan linear yang kuat antara `petal_length` dan `petal_width`. Saat panjang kelopak meningkat, lebarnya juga cenderung meningkat."
   ]
  },
  {
   "cell_type": "markdown",
   "metadata": {},
   "source": [
    "### Distribusi Fitur per Spesies (Box Plot)\n",
    "*Box plot* sangat baik untuk membandingkan distribusi fitur di berbagai kategori (spesies)."
   ]
  },
  {
   "cell_type": "code",
   "execution_count": null,
   "metadata": {},
   "outputs": [],
   "source": [
    "fig, axes = plt.subplots(2, 2, figsize=(14, 10))\n",
    "\n",
    "# Loop melalui setiap fitur numerik untuk membuat box plot\n",
    "for i, col in enumerate(['sepal_length', 'sepal_width', 'petal_length', 'petal_width']):\n",
    "    sns.boxplot(x='species', y=col, data=df_iris, ax=axes[i//2, i%2], palette='viridis')\n",
    "    axes[i//2, i%2].set_title(f'Distribusi {col.replace(\"_\", \" \").title()}', fontsize=12)\n",
    "\n",
    "plt.tight_layout()\n",
    "plt.suptitle('Distribusi Fitur untuk Setiap Spesies', fontsize=16, y=1.02)\n",
    "plt.show()"
   ]
  },
  {
   "cell_type": "markdown",
   "metadata": {},
   "source": [
    "**Wawasan dari Box Plot:**\n",
    "* **Petal sebagai Pembeda Utama:** Box plot mengkonfirmasi bahwa `petal_length` dan `petal_width` adalah pembeda terbaik. Rentang nilai untuk *Setosa* sama sekali tidak tumpang tindih dengan dua spesies lainnya pada fitur petal.\n",
    "* **Outlier:** Terdapat beberapa *outlier* (titik di luar \"kumis\" plot), misalnya pada `sepal_width` untuk *Virginica*. Ini adalah titik data yang mungkin perlu diselidiki lebih lanjut.\n",
    "* **Sebaran:** *Setosa* memiliki sebaran (varians) yang paling kecil pada hampir semua fitur, menunjukkan bahwa bunga dalam spesies ini sangat seragam."
   ]
  },
  {
   "cell_type": "markdown",
   "metadata": {},
   "source": [
    "### Korelasi Antar Fitur Numerik (Heatmap)\n",
    "Heatmap memberikan cara cepat untuk melihat kekuatan dan arah korelasi antar fitur."
   ]
  },
  {
   "cell_type": "code",
   "execution_count": null,
   "metadata": {},
   "outputs": [],
   "source": [
    "plt.figure(figsize=(10, 7))\n",
    "\n",
    "# Menghitung korelasi hanya pada kolom numerik\n",
    "numeric_df = df_iris.drop(['id', 'species'], axis=1)\n",
    "correlation_matrix = numeric_df.corr()\n",
    "\n",
    "sns.heatmap(correlation_matrix, annot=True, cmap='coolwarm', fmt='.2f')\n",
    "plt.title('Matriks Korelasi Antar Fitur Numerik', fontsize=15)\n",
    "plt.show()"
   ]
  },
  {
   "cell_type": "markdown",
   "metadata": {},
   "source": [
    "**Wawasan dari Heatmap:**\n",
    "* **Korelasi Sangat Kuat (Positif):** `petal_width` dan `petal_length` memiliki korelasi sangat tinggi **(+0.96)**. `sepal_length` juga memiliki korelasi kuat dengan `petal_length` **(+0.87)** dan `petal_width` **(+0.82)**.\n",
    "* **Korelasi Negatif:** `sepal_width` memiliki korelasi negatif yang sangat lemah dengan fitur lainnya, menunjukkan hampir tidak ada hubungan linear yang jelas."
   ]
  },
  {
   "cell_type": "markdown",
   "metadata": {},
   "source": [
    "## Ringkasan & Temuan Kunci 🎯\n",
    "\n",
    "Setelah melakukan serangkaian analisis, berikut adalah temuan-temuan utama dari tahap Data Understanding:\n",
    "\n",
    "1.  **Data Bersih & Lengkap:** Data berhasil diintegrasikan dari dua sumber simulasi, bersih dari nilai yang hilang, dan memiliki tipe data yang benar.\n",
    "2.  **Dataset Seimbang:** Ketiga spesies Iris memiliki jumlah sampel yang sama (50 sampel), yang sangat baik untuk pemodelan.\n",
    "3.  **Fitur Petal adalah Kunci:** `petal_length` dan `petal_width` adalah fitur yang paling informatif dan memiliki daya diskriminatif tertinggi untuk membedakan ketiga spesies.\n",
    "4.  **Setosa Mudah Dipisahkan:** Spesies *Iris-setosa* dapat dipisahkan secara sempurna dari yang lain menggunakan aturan sederhana pada fitur petal.\n",
    "5.  **Tantangan:** Tantangan utama dalam pemodelan nanti adalah membedakan secara akurat antara *Iris-versicolor* dan *Iris-virginica* yang menunjukkan beberapa kemiripan."
   ]
  }
 ],
 "metadata": {
  "kernelspec": {
   "display_name": "Python 3 (ipykernel)",
   "language": "python",
   "name": "python3"
  },
  "language_info": {
   "codemirror_mode": {
    "name": "ipython",
    "version": 3
   },
   "file_extension": ".py",
   "mimetype": "text/x-python",
   "name": "python",
   "nbconvert_exporter": "python",
   "pygments_lexer": "ipython3",
   "version": "3.10.9"
  }
 },
 "nbformat": 4,
 "nbformat_minor": 4
}