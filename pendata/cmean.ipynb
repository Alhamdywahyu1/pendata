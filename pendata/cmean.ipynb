{
 "cells": [
  {
   "cell_type": "markdown",
   "metadata": {},
   "source": [
    "# 🌫️ Pemodelan Clustering — Deep Dive Fuzzy C-Means (FCM)\n",
    "\n",
    "### Jembatan Konseptual: Dari Hard ke Soft Clustering\n",
    "\n",
    "Selamat datang di bagian **2.b**, bagian terakhir dari seri pemodelan kita. Di bagian sebelumnya, kita telah menguasai **K-Means**, sebuah algoritma *hard clustering* di mana setiap data menjadi anggota eksklusif dan tegas dari **satu** cluster saja.\n",
    "\n",
    "Namun, bagaimana jika data berada di 'area abu-abu' di antara dua kelompok? Di sinilah **Fuzzy C-Means (FCM)** bersinar. FCM adalah metode *soft clustering*.\n",
    "\n",
    "### Filosofi Fuzzy C-Means: \"Tingkat Keanggotaan\"\n",
    "\n",
    "> **Analogi Sederhana:** Bayangkan genre musik. Sebuah lagu bisa jadi 80% Pop dan 20% Rock. FCM mencoba menangkap nuansa ini dengan memberikan **tingkat keanggotaan (membership degree)** kepada setiap titik data untuk setiap cluster yang ada.\n",
    "\n",
    "Hasil dari FCM bukanlah label tunggal, melainkan sebuah matriks keanggotaan yang menunjukkan probabilitas setiap titik data menjadi bagian dari setiap cluster. Ini sangat berguna untuk memahami ketidakpastian dan tumpang tindih dalam data.\n",
    "\n",
    "Di notebook ini, kita akan menerapkan FCM pada dataset Iris, memahami outputnya yang unik, dan memvisualisasikan hasil \"fuzzy\"-nya."
   ]
  },
  {
   "cell_type": "markdown",
   "metadata": {},
   "source": [
    "### Langkah 1: Setup Mandiri & Persiapan Data\n",
    "\n",
    "Sebagai notebook mandiri, sel pertama ini akan menangani semua yang kita butuhkan: mengimpor pustaka, menginstal `scikit-fuzzy` jika belum ada, memuat data mentah, dan melakukan penskalaan fitur."
   ]
  },
  {
   "cell_type": "code",
   "execution_count": null,
   "metadata": {},
   "outputs": [],
   "source": [
    "# Instalasi pustaka scikit-fuzzy jika belum ada\n",
    "!pip install -U scikit-fuzzy\n",
    "\n",
    "# =======================================================\n",
    "# SETUP MANDIRI UNTUK PEMODELAN FUZZY C-MEANS\n",
    "# =======================================================\n",
    "\n",
    "# 1. Import Pustaka\n",
    "import pandas as pd\n",
    "import numpy as np\n",
    "import seaborn as sns\n",
    "import matplotlib.pyplot as plt\n",
    "from sklearn.datasets import load_iris\n",
    "from sklearn.preprocessing import StandardScaler\n",
    "import skfuzzy as fuzz\n",
    "\n",
    "print(\"Pustaka yang dibutuhkan telah diimpor.\")\n",
    "\n",
    "# 2. Memuat dan Membuat DataFrame Awal\n",
    "iris = load_iris()\n",
    "df_iris = pd.DataFrame(data=iris.data, columns=['sepal_length', 'sepal_width', 'petal_length', 'petal_width'])\n",
    "df_iris['true_species'] = [iris.target_names[i] for i in iris.target] # Untuk evaluasi akhir\n",
    "print(\"Dataset Iris mentah berhasil dibuat.\")\n",
    "\n",
    "# 3. Pra-Pemrosesan: Penskalaan Fitur\n",
    "# Sama seperti K-Means, FCM sensitif terhadap skala data.\n",
    "print(\"\\nMemulai pra-pemrosesan (penskalaan)... \")\n",
    "features = df_iris[['sepal_length', 'sepal_width', 'petal_length', 'petal_width']]\n",
    "scaler = StandardScaler()\n",
    "X_scaled = scaler.fit_transform(features)\n",
    "print(\"Penskalaan fitur selesai.\")\n",
    "\n",
    "# 4. Persiapan Data untuk Pustaka skfuzzy\n",
    "# Pustaka scikit-fuzzy memerlukan data dengan fitur sebagai baris dan sampel sebagai kolom (transpos)\n",
    "X_transposed = X_scaled.T"
   ]
  },
  {
   "cell_type": "markdown",
   "metadata": {},
   "source": [
    "### Langkah 2: Membangun & Melatih Model Fuzzy C-Means\n",
    "\n",
    "Kita akan melatih model FCM dengan `c=3` cluster (berdasarkan analisis Elbow Method kita di K-Means). Parameter penting lainnya adalah `m`, yaitu *fuzziness parameter*. Nilai `m > 1` menentukan tingkat 'fuzzy' dari sebuah cluster. Nilai `m=2` adalah yang paling umum digunakan."
   ]
  },
  {
   "cell_type": "code",
   "execution_count": null,
   "metadata": {},
   "outputs": [],
   "source": [
    "# Menentukan parameter FCM\n",
    "n_clusters = 3\n",
    "m = 2 # Fuzziness parameter (standar)\n",
    "error = 0.005 # Batas error untuk berhenti\n",
    "max_iter = 1000 # Maksimum iterasi\n",
    "\n",
    "# Melatih model FCM\n",
    "# Fungsi ini mengembalikan beberapa nilai, kita fokus pada centroid (cntr) dan matriks keanggotaan (u)\n",
    "cntr, u, u0, d, jm, p, fpc = fuzz.cluster.cmeans(\n",
    "    X_transposed, \n",
    "    c=n_clusters, \n",
    "    m=m, \n",
    "    error=error, \n",
    "    maxiter=max_iter, \n",
    "    seed=42\n",
    ")\n",
    "\n",
    "# Mendapatkan label cluster 'hard' dengan mencari tingkat keanggotaan tertinggi untuk setiap titik data\n",
    "predicted_labels = np.argmax(u, axis=0)\n",
    "\n",
    "# Tambahkan label prediksi ke DataFrame utama\n",
    "df_iris['fcm_cluster'] = predicted_labels\n",
    "\n",
    "print(\"Pelatihan model Fuzzy C-Means selesai.\")\n",
    "print(f\"Bentuk matriks keanggotaan (u): {u.shape}\")\n",
    "print(f\"Bentuk centroid (cntr): {cntr.shape}\")"
   ]
  },
  {
   "cell_type": "markdown",
   "metadata": {},
   "source": [
    "### Langkah 3: Visualisasi Hasil Clustering\n",
    "\n",
    "Meskipun FCM menghasilkan keanggotaan yang \"fuzzy\", cara termudah untuk memvisualisasikan hasilnya adalah dengan memberikan setiap titik data ke cluster di mana ia memiliki keanggotaan tertinggi (ini disebut *hard assignment*)."
   ]
  },
  {
   "cell_type": "code",
   "execution_count": null,
   "metadata": {},
   "outputs": [],
   "source": [
    "# Visualisasi hasil clustering pada data yang telah diskalakan\n",
    "df_scaled_pd = pd.DataFrame(X_scaled, columns=features.columns)\n",
    "df_scaled_pd['fcm_cluster'] = predicted_labels\n",
    "\n",
    "plt.figure(figsize=(14, 8))\n",
    "sns.scatterplot(data=df_scaled_pd, x='petal_length', y='petal_width', hue='fcm_cluster', \n",
    "                palette='viridis', s=100, alpha=0.8, legend='full')\n",
    "\n",
    "# Plot centroid\n",
    "plt.scatter(cntr[:, 2], cntr[:, 3], s=300, c='red', marker='X', label='Centroids')\n",
    "plt.title('Hasil Clustering Fuzzy C-Means (Hard Assignment)', fontsize=16)\n",
    "plt.xlabel('Petal Length (Scaled)')\n",
    "plt.ylabel('Petal Width (Scaled)')\n",
    "plt.legend()\n",
    "plt.grid(True)\n",
    "plt.show()"
   ]
  },
  {
   "cell_type": "markdown",
   "metadata": {},
   "source": [
    "Secara visual, hasil *hard assignment* dari FCM sangat mirip dengan hasil K-Means, yang menunjukkan bahwa kedua algoritma berhasil menemukan struktur dasar yang sama."
   ]
  },
  {
   "cell_type": "markdown",
   "metadata": {},
   "source": [
    "### Langkah 4: \"Deep Dive\" — Menganalisis Tingkat Keanggotaan (Membership)\n",
    "\n",
    "Di sinilah kekuatan sesungguhnya dari FCM terletak. Mari kita selidiki matriks keanggotaan `u` untuk melihat titik-titik data yang \"bingung\" atau memiliki keanggotaan yang terbagi."
   ]
  },
  {
   "cell_type": "code",
   "execution_count": null,
   "metadata": {},
   "outputs": [],
   "source": [
    "# Membuat DataFrame dari matriks keanggotaan\n",
    "df_membership = pd.DataFrame(u.T, columns=[f'Cluster_{i}_Prob' for i in range(n_clusters)])\n",
    "\n",
    "# Gabungkan dengan data asli\n",
    "df_iris_full_analysis = pd.concat([df_iris, df_membership], axis=1)\n",
    "\n",
    "print(\"--- Data dengan Tingkat Keanggotaan Cluster ---\")\n",
    "display(df_iris_full_analysis.head())\n",
    "\n",
    "# Cari titik data yang paling 'fuzzy' (tidak pasti)\n",
    "# Yaitu, titik di mana probabilitas keanggotaan tertingginya tidak terlalu dominan (misal < 75%)\n",
    "max_membership = df_iris_full_analysis[[f'Cluster_{i}_Prob' for i in range(n_clusters)]].max(axis=1)\n",
    "fuzzy_points = df_iris_full_analysis[max_membership < 0.75]\n",
    "\n",
    "print(f\"\\n{len(fuzzy_points)} titik data teridentifikasi sebagai 'fuzzy' (keanggotaan tertinggi < 75%):\")\n",
    "display(fuzzy_points)"
   ]
  },
  {
   "cell_type": "markdown",
   "metadata": {},
   "source": [
    "#### Visualisasi Fuzziness\n",
    "\n",
    "Cara yang elegan untuk memvisualisasikan ketidakpastian ini adalah dengan menggunakan tingkat keanggotaan tertinggi untuk mengatur transparansi (`alpha`) dari setiap titik. Titik yang pasti akan terlihat solid, sedangkan titik yang \"fuzzy\" akan terlihat transparan."
   ]
  },
  {
   "cell_type": "code",
   "execution_count": null,
   "metadata": {},
   "outputs": [],
   "source": [
    "# Dapatkan tingkat keanggotaan tertinggi untuk setiap titik\n",
    "max_u = np.max(u, axis=0)\n",
    "\n",
    "plt.figure(figsize=(14, 8))\n",
    "# Loop melalui setiap titik untuk memplot dengan alpha yang sesuai\n",
    "for i in range(len(X_scaled)):\n",
    "    plt.scatter(\n",
    "        X_scaled[i, 2], # petal_length (scaled)\n",
    "        X_scaled[i, 3], # petal_width (scaled)\n",
    "        c=plt.cm.viridis(predicted_labels[i] / (n_clusters - 1)), # Warna berdasarkan cluster\n",
    "        alpha=max_u[i], # Transparansi berdasarkan kepastian\n",
    "        s=100\n",
    "    )\n",
    "\n",
    "plt.scatter(cntr[:, 2], cntr[:, 3], s=300, c='red', marker='X', label='Centroids')\n",
    "plt.title('Visualisasi Fuzziness (Transparansi = Tingkat Keanggotaan)', fontsize=16)\n",
    "plt.xlabel('Petal Length (Scaled)')\n",
    "plt.ylabel('Petal Width (Scaled)')\n",
    "plt.grid(True)\n",
    "plt.show()"
   ]
  },
  {
   "cell_type": "markdown",
   "metadata": {},
   "source": [
    "**Analisis Visualisasi Fuzziness:**\n",
    "Pada grafik ini, titik-titik yang warnanya paling solid adalah titik yang keanggotaannya di satu cluster sangat tinggi (mendekati 100%). Sebaliknya, titik-titik yang tampak pudar atau transparan adalah titik-titik \"fuzzy\" yang kita identifikasi sebelumnya. Terlihat jelas bahwa titik-titik ini berada di perbatasan antara cluster `versicolor` dan `virginica`, yang secara akurat menangkap sifat tumpang tindih dari data asli."
   ]
  },
  {
   "cell_type": "markdown",
   "metadata": {},
   "source": [
    "### Penutup dan Kesimpulan Akhir Proyek\n",
    "\n",
    "Dengan selesainya notebook ini, kita telah menyelesaikan perjalanan lengkap kita melalui berbagai teknik pemodelan. Kita telah menjelajahi:\n",
    "\n",
    "1.  **Klasifikasi (Supervised Learning):** Di mana kita melatih model (Naive Bayes, KNN, Decision Tree) untuk memprediksi label yang sudah ada. Tujuannya adalah akurasi prediksi.\n",
    "2.  **Clustering (Unsupervised Learning):** Di mana kita meminta model (K-Means, Fuzzy C-Means) untuk menemukan struktur atau kelompok tersembunyi di dalam data tanpa menggunakan label. Tujuannya adalah penemuan pola.\n",
    "\n",
    "Kita melihat bagaimana K-Means memberikan penugasan yang tegas (*hard clustering*), sementara Fuzzy C-Means memberikan penugasan yang bernuansa (*soft clustering*), yang sangat berguna untuk memahami data yang ambigu.\n",
    "\n",
    "Perjalanan dari pemahaman data mentah hingga penerapan berbagai jenis model ini menunjukkan kekuatan dan fleksibilitas dari ilmu data. Setiap algoritma memberikan lensa yang berbeda untuk melihat dan memahami dataset yang sama, membekali kita dengan wawasan yang lebih kaya dan komprehensif."
   ]
  }
 ],
 "metadata": {
  "kernelspec": {
   "display_name": "Python 3 (ipykernel)",
   "language": "python",
   "name": "python3"
  },
  "language_info": {
   "codemirror_mode": {
    "name": "ipython",
    "version": 3
   },
   "file_extension": ".py",
   "mimetype": "text/x-python",
   "name": "python",
   "nbconvert_exporter": "python",
   "pygments_lexer": "ipython3",
   "version": "3.10.9"
  }
 },
 "nbformat": 4,
 "nbformat_minor": 4
}